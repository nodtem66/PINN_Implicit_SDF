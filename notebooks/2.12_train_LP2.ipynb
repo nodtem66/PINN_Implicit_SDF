{
 "cells": [
  {
   "cell_type": "code",
   "execution_count": 2,
   "metadata": {},
   "outputs": [
    {
     "name": "stdout",
     "output_type": "stream",
     "text": [
      "CUDA 0: NVIDIA GeForce GTX 1650 Ti\n"
     ]
    }
   ],
   "source": [
    "%load_ext autoreload\n",
    "%autoreload 2\n",
    "# Add parent directory into system path\n",
    "import sys, os\n",
    "sys.path.insert(1, os.path.abspath(os.path.normpath('..')))\n",
    "\n",
    "import torch\n",
    "from torch import nn\n",
    "from torch.nn.init import calculate_gain\n",
    "\n",
    "if torch.cuda.is_available():\n",
    "    for i in range(torch.cuda.device_count()):\n",
    "        print(f'CUDA {i}: {torch.cuda.get_device_name(i)}')\n",
    "device = torch.device(\"cuda:0\" if torch.cuda.is_available() else \"cpu\")\n",
    "#device = 'cpu'\n",
    "torch.set_default_dtype(torch.float32)"
   ]
  },
  {
   "cell_type": "code",
   "execution_count": 3,
   "metadata": {},
   "outputs": [],
   "source": [
    "from models import Davies2021, MLP_PINN, Base, LinearNeuralTangentKernel, SirenNet\n",
    "from utils.helpers import gradient\n",
    "class MyNet(Base):\n",
    "    def __init__(\n",
    "        self,\n",
    "        lambda_siren=0.5,\n",
    "        loss_lambda = (1.0, 10.0),\n",
    "        dim_hidden_mlp=32, num_layers_mlp=8,\n",
    "        dim_in=3, dim_hidden_siren=256, dim_out=1, num_layers_siren=3,\n",
    "        activation=torch.nn.Softplus(30), last_activation=torch.nn.Softplus(30),\n",
    "        linear_layer=nn.Linear,\n",
    "        **kwarg\n",
    "    ):\n",
    "        super().__init__(**kwarg)\n",
    "        self.lambda_siren = lambda_siren\n",
    "        self.loss_lambda = loss_lambda\n",
    "        self.MLP = Davies2021(dim_hidden_mlp, num_layers_mlp, dim_in, dim_out, activation, last_activation)\n",
    "        #self.SIREN =  SirenNet(dim_in, dim_hidden_siren, dim_out, num_layers_siren)\n",
    "        self.loss_function = nn.MSELoss(reduction='mean')\n",
    "        self.one = nn.parameter.Parameter(torch.tensor(1.0), requires_grad=True)\n",
    "\n",
    "    def forward(self, x):\n",
    "        #y_mlp = (1 - self.lambda_siren) * self.MLP(x)\n",
    "        #y_siren = self.lambda_siren * self.SIREN(x).squeeze()\n",
    "        return self.MLP(x)\n",
    "        #return self.SIREN(x).squeeze()\n",
    "\n",
    "    def loss_residual(self, p):\n",
    "        norm_p = torch.linalg.norm(p, dim=1)\n",
    "        self._loss_residual = torch.mean((norm_p - 1)**2)\n",
    "        return self._loss_residual\n",
    "\n",
    "    def loss_max_residual(self, p):\n",
    "        norm_p = torch.linalg.norm(p, dim=1)\n",
    "        return torch.mean(torch.nn.ReLU()(norm_p - 1))\n",
    "\n",
    "    def loss_grad(self, p, grad):\n",
    "        norm_p = torch.linalg.norm(p, dim=1)\n",
    "        norm_g = torch.linalg.norm(grad, dim=1)\n",
    "        self._loss_grad = torch.mean(-torch.einsum('ij,ij->i', p, grad)/norm_p/norm_g)\n",
    "        #self._loss_grad = self.loss_function(p, grad)\n",
    "        return self._loss_grad\n",
    "\n",
    "    def loss_SDF(self, y, sdf):\n",
    "        self._loss_SDF = self.loss_function(y, sdf)\n",
    "        return self._loss_SDF\n",
    "\n",
    "    def loss(self, x, sdf, grad, residual_x=None):\n",
    "        y = self.forward(x)\n",
    "        p = gradient(y, x)\n",
    "        \n",
    "        if residual_x is not None:\n",
    "            residual_y = self.forward(residual_x)\n",
    "            residual_p = gradient(residual_y, residual_x)\n",
    "\n",
    "        self._loss = \\\n",
    "            self.loss_SDF(y, sdf) + \\\n",
    "            0.1 * self.loss_grad(p, grad) + \\\n",
    "            0.2 * self.loss_max_residual(residual_p if residual_x is not None else p) + \\\n",
    "            0.1 * self.loss_residual(residual_p if residual_x is not None else p)\n",
    "        return self._loss\n",
    "#net = Davies2021(N_layers=3, width=256, activation=nn.ReLU()).to(device)\n",
    "net = MyNet(\n",
    "    num_layers_mlp=8, dim_hidden_mlp=32,\n",
    "    num_layers_siren=3, dim_hidden_siren=256,\n",
    "    loss_lambda=[1.0, 1.0], lambda_siren=0,\n",
    "    activation=nn.Softplus(30)).to(device)"
   ]
  },
  {
   "cell_type": "code",
   "execution_count": 4,
   "metadata": {},
   "outputs": [],
   "source": [
    "from functools import lru_cache\n",
    "\n",
    "@torch.no_grad()\n",
    "def bounding_box(x):\n",
    "    _min = torch.min(x, dim=0)\n",
    "    _max = torch.max(x, dim=0)\n",
    "    return (_min[0], _max[0])\n",
    "\n",
    "def generate_grid_points(bounds=((-1,-1,-1), (1, 1, 1)), nx=1000, ny=1000, nz=1000, device='cpu'):\n",
    "    (x0, y0, z0), (x1, y1, z1) = bounds\n",
    "\n",
    "    X = torch.linspace(x0, x1, nx, device=device)\n",
    "    Y = torch.linspace(y0, y1, ny, device=device)\n",
    "    Z = torch.linspace(z0, z1, nz, device=device)\n",
    "\n",
    "    P = torch.cartesian_prod(X, Y, Z)\n",
    "    return P\n",
    "\n",
    "def residual_sum_pdf(net, x, epsilon=1e-4):\n",
    "    ndim = round(x.shape[0] ** (1/3))\n",
    "    _min, _max = bounding_box(x)\n",
    "    dx = (_max - _min) / (ndim-1)\n",
    "    prod_dx = torch.prod(dx)\n",
    "    x.requires_grad_(True)\n",
    "    if x.grad is not None:\n",
    "        x.grad.zero_()\n",
    "    y = net.forward(x)\n",
    "    p = gradient(y, x, False)\n",
    "    with torch.no_grad():\n",
    "        norm_p = torch.linalg.norm(p, dim=1)\n",
    "        residual = (norm_p - 1.0)**2\n",
    "        pdf = torch.log(residual / epsilon)\n",
    "        mark = pdf < 0\n",
    "        pdf[mark] = 0\n",
    "        return (pdf.sum() * prod_dx)\n",
    "\n",
    "def residual_likelihood(net, x, sum_pdf=1.0, epsilon=1e-4):\n",
    "    x.requires_grad_(True)\n",
    "    if x.grad is not None:\n",
    "        x.grad.zero_()\n",
    "    y = net.forward(x)\n",
    "    p = gradient(y, x, False)\n",
    "    x.requires_grad_(False)\n",
    "    with torch.no_grad():\n",
    "        norm_p = torch.linalg.norm(p, dim=1)\n",
    "        residual = (norm_p - 1.0)**2\n",
    "        pdf = torch.log(residual / epsilon)\n",
    "        mark = pdf < 0\n",
    "        pdf[mark] = 0\n",
    "        return pdf / sum_pdf\n",
    "\n",
    "def random_points_from_residual(net, num_points=1000, grid_points=None):\n",
    "    assert(grid_points is not None)\n",
    "    assert(len(grid_points.shape) == 2)\n",
    "    assert(grid_points.shape[1] == 3)\n",
    "\n",
    "    device = grid_points.device\n",
    "    with torch.no_grad():\n",
    "        _min, _max = bounding_box(grid_points)\n",
    "        _scale = _max - _min\n",
    "        _num_randoms = round(num_points*2)\n",
    "        x = torch.rand((_num_randoms,), device=device)*_scale[0] + _min[0]\n",
    "        y = torch.rand((_num_randoms,), device=device)*_scale[1] + _min[1]\n",
    "        z = torch.rand((_num_randoms,), device=device)*_scale[2] + _min[2]\n",
    "        points = torch.vstack((x,y,z)).T\n",
    "\n",
    "    sum_pdf = residual_sum_pdf(net, grid_points)\n",
    "    likelihood = residual_likelihood(net, points, sum_pdf=sum_pdf)\n",
    "    mask = torch.rand((_num_randoms,), device=device) > likelihood\n",
    "    points = points[mask]\n",
    "    return points[:num_points]\n"
   ]
  },
  {
   "cell_type": "code",
   "execution_count": 6,
   "metadata": {},
   "outputs": [
    {
     "name": "stdout",
     "output_type": "stream",
     "text": [
      "ImplicitDataset (64000 points)\n",
      "Filtered points: 53278\n"
     ]
    }
   ],
   "source": [
    "# Load dataset and set optimizer\n",
    "import os\n",
    "from utils import RandomMeshSDFDataset, ImplicitDataset, batch_loader\n",
    "\n",
    "# Train from random calculated sdf\n",
    "dataset_name = '../datasets/box_1f0_gyroid_4pi'\n",
    "output_stl = dataset_name+'.stl'\n",
    "#train_dataset = RandomMeshSDFDataset(output_stl, sampling_method='importance', M=int(1e6), W=10, device=device)\n",
    "train_dataset = ImplicitDataset.from_file(file=dataset_name+'_train.npz', device=device)\n",
    "print(train_dataset)\n",
    "\n",
    "# filter out discontinous points\n",
    "grads = train_dataset.grads\n",
    "norm_grad = torch.linalg.norm(grads, dim=1)\n",
    "mark = (norm_grad <= 1.0)\n",
    "train_dataset.grads = grads[mark]\n",
    "train_dataset.points = train_dataset.points[mark]\n",
    "train_dataset.sdfs = train_dataset.sdfs[mark]\n",
    "grid_points = train_dataset.points\n",
    "\n",
    "print(f'Filtered points: {len(train_dataset.points)}')\n",
    "\n",
    "from utils.optimizer import CallbackScheduler\n",
    "\n",
    "# Optimization\n",
    "torch.nn.utils.clip_grad_norm_(net.parameters(), 10.0, error_if_nonfinite=True)\n",
    "optimizer=torch.optim.Adam(net.parameters(), lr=0.01, betas=(0.9, 0.999), eps=1e-6, amsgrad=False)\n",
    "lr_scheduler = CallbackScheduler([\n",
    "    CallbackScheduler.reduce_lr(0.5),\n",
    "    CallbackScheduler.reduce_lr(0.2),\n",
    "    # CallbackScheduler.init_LBFGS(\n",
    "    #     lr=1, max_iter=40, max_eval=60, \n",
    "    #     tolerance_grad=1e-5, tolerance_change=1e-9,\n",
    "    #     history_size=100,\n",
    "    #     line_search_fn=None\n",
    "    # ),\n",
    "    CallbackScheduler.nothing(),\n",
    "], optimizer=optimizer, model=net, eps=1e-7, patience=300)"
   ]
  },
  {
   "cell_type": "code",
   "execution_count": 41,
   "metadata": {},
   "outputs": [
    {
     "name": "stdout",
     "output_type": "stream",
     "text": [
      "tensor([-0.6657, -0.6657, -0.6657], device='cuda:0') tensor([0.6657, 0.6657, 0.6657], device='cuda:0')\n"
     ]
    }
   ],
   "source": [
    "# Expand residual points\n",
    "_min, _max = bounding_box(grid_points)\n",
    "expand_size = (_max - _max).abs() / 2\n",
    "_min = _min - expand_size\n",
    "_max = _max + expand_size\n",
    "grid_points = generate_grid_points(bounds=(_min.cpu().detach().tolist(), _max.cpu().detach().tolist()), nx=50, ny=50, nz=50, device=device)\n",
    "print(_min, _max)"
   ]
  },
  {
   "cell_type": "code",
   "execution_count": 7,
   "metadata": {},
   "outputs": [
    {
     "name": "stdout",
     "output_type": "stream",
     "text": [
      "tensor([-0.6557, -0.6557, -0.6557], device='cuda:0') tensor([0.6557, 0.6557, 0.6557], device='cuda:0')\n"
     ]
    }
   ],
   "source": [
    "# Reset residual points\n",
    "expand_size = -0.01\n",
    "_min, _max = bounding_box(train_dataset.points)\n",
    "_min = _min - expand_size\n",
    "_max = _max + expand_size\n",
    "grid_points = generate_grid_points(bounds=(_min.cpu().detach().tolist(), _max.cpu().detach().tolist()), nx=50, ny=50, nz=50, device=device)\n",
    "print(_min, _max)"
   ]
  },
  {
   "cell_type": "code",
   "execution_count": 19,
   "metadata": {},
   "outputs": [
    {
     "name": "stdout",
     "output_type": "stream",
     "text": [
      "Max epoch: 150 (PRINT: 15, CALLBACK: 50)\n",
      "LR = 1\n",
      "#0 Loss: 0.000046 0.016871\n",
      "#15 Loss: 0.000047 0.016859\n",
      "#30 Loss: 0.000046 0.016855\n",
      "#45 Loss: 0.000047 0.016824\n",
      "#60 Loss: 0.000047 0.016809\n",
      "#75 Loss: 0.000047 0.016796\n",
      "#90 Loss: 0.000047 0.016796\n",
      "#105 Loss: 0.000047 0.016782\n",
      "#120 Loss: 0.000046 0.016765\n",
      "#135 Loss: 0.000046 0.016747\n",
      "#150 Loss: 0.000046 0.016772\n",
      "Success\n"
     ]
    }
   ],
   "source": [
    "# Training loop\n",
    "\n",
    "from torch.utils.data import DataLoader\n",
    "from math import ceil\n",
    "lr_step = 50\n",
    "\n",
    "batch_size = len(train_dataset.points)\n",
    "\n",
    "\n",
    "LR_CALLBACK_EVERY_EPOCH = int(lr_step * ceil(len(train_dataset.points) / batch_size))\n",
    "MAX_EPOCHS = int(LR_CALLBACK_EVERY_EPOCH * len(lr_scheduler))\n",
    "PRINT_EVERY_EPOCH = int(MAX_EPOCHS // 10)\n",
    "\n",
    "\n",
    "#points = train_dataset.points\n",
    "#sdfs = train_dataset.sdfs\n",
    "#grads = train_dataset.grads\n",
    "#points.requires_grad_(True)\n",
    "print(f'Max epoch: {MAX_EPOCHS} (PRINT: {PRINT_EVERY_EPOCH}, CALLBACK: {LR_CALLBACK_EVERY_EPOCH})')\n",
    "\n",
    "is_PINN = True\n",
    "print(f'LR = {lr_scheduler.lr}')\n",
    "try:\n",
    "    epoch = 0\n",
    "    while epoch < MAX_EPOCHS:\n",
    "        for points, sdfs, grads in batch_loader(train_dataset.points, train_dataset.sdfs, train_dataset.grads, batch_size=batch_size):\n",
    "            \n",
    "            # Training\n",
    "            lr_scheduler.optimizer.zero_grad()\n",
    "            \n",
    "            if is_PINN:\n",
    "                points.requires_grad_(True)\n",
    "                if 'residual_points' in locals():\n",
    "                    residual_points.requires_grad_(True)\n",
    "                    loss = net.loss(points, sdfs, grads, residual_points)\n",
    "                else:\n",
    "                    loss = net.loss(points, sdfs, grads, points)\n",
    "            else:\n",
    "                loss = net.loss_SDF(points, sdfs)\n",
    "            loss.backward()\n",
    "            lr_scheduler.optimizer.step(lambda: loss)\n",
    "\n",
    "            lr_scheduler.step_when((epoch % LR_CALLBACK_EVERY_EPOCH) == LR_CALLBACK_EVERY_EPOCH - 1, verbose=False)\n",
    "            if epoch % PRINT_EVERY_EPOCH == 0:\n",
    "                print(f'#{epoch} Loss: {net._loss_SDF:.6f} {net._loss_residual:.6f}')\n",
    "\n",
    "            epoch += 1\n",
    "        \n",
    "    print(f'#{epoch} Loss: {net._loss_SDF:.6f} {net._loss_residual:.6f}\\nSuccess')\n",
    "except KeyboardInterrupt as e:\n",
    "    print('Bye bye')\n",
    "\n"
   ]
  },
  {
   "cell_type": "code",
   "execution_count": 16,
   "metadata": {},
   "outputs": [
    {
     "name": "stdout",
     "output_type": "stream",
     "text": [
      "torch.Size([74193, 3])\n"
     ]
    }
   ],
   "source": [
    "_residual_points = random_points_from_residual(net, num_points=50000, grid_points=grid_points)\n",
    "with torch.no_grad():\n",
    "    if 'residual_points' in locals():\n",
    "        residual_points = torch.cat((residual_points, _residual_points), 0)\n",
    "    else:\n",
    "        residual_points = torch.cat((train_dataset.points, _residual_points), 0)\n",
    "    train_dataset.points.requires_grad_(False)\n",
    "print(residual_points.shape)"
   ]
  },
  {
   "cell_type": "code",
   "execution_count": 14,
   "metadata": {},
   "outputs": [],
   "source": [
    "del residual_points"
   ]
  },
  {
   "cell_type": "code",
   "execution_count": 9,
   "metadata": {},
   "outputs": [
    {
     "name": "stdout",
     "output_type": "stream",
     "text": [
      "0.0005\n"
     ]
    }
   ],
   "source": [
    "lr_scheduler.set_lr(0.0005)\n",
    "print(lr_scheduler.lr)"
   ]
  },
  {
   "cell_type": "code",
   "execution_count": null,
   "metadata": {},
   "outputs": [],
   "source": [
    "torch.save(net.state_dict(), './tmp.pth')"
   ]
  },
  {
   "cell_type": "code",
   "execution_count": 43,
   "metadata": {},
   "outputs": [
    {
     "data": {
      "text/plain": [
       "<All keys matched successfully>"
      ]
     },
     "execution_count": 43,
     "metadata": {},
     "output_type": "execute_result"
    }
   ],
   "source": [
    "net.load_state_dict(torch.load('./tmp.pth'))"
   ]
  },
  {
   "cell_type": "code",
   "execution_count": 17,
   "metadata": {},
   "outputs": [],
   "source": [
    "lr_scheduler.LBFGS(\n",
    "    lr=1, max_iter=40, max_eval=60, \n",
    "    tolerance_grad=1e-5, tolerance_change=1e-9,\n",
    "    history_size=100,\n",
    "    line_search_fn=None\n",
    ")"
   ]
  },
  {
   "cell_type": "code",
   "execution_count": null,
   "metadata": {},
   "outputs": [],
   "source": [
    "lr_scheduler.ADAM(lr=0.01, betas=(0.9, 0.999), eps=1e-6, amsgrad=False)"
   ]
  },
  {
   "cell_type": "code",
   "execution_count": 20,
   "metadata": {},
   "outputs": [
    {
     "data": {
      "image/png": "[encoded data removed]",
      "text/plain": [
       "<Figure size 432x288 with 2 Axes>"
      ]
     },
     "metadata": {
      "needs_background": "light"
     },
     "output_type": "display_data"
    },
    {
     "data": {
      "image/png": "[encoded data removed]",
      "text/plain": [
       "<Figure size 432x288 with 2 Axes>"
      ]
     },
     "metadata": {
      "needs_background": "light"
     },
     "output_type": "display_data"
    }
   ],
   "source": [
    "from utils import SDFVisualize\n",
    "net.to(device)\n",
    "visualize = SDFVisualize(z_level=0.9, step=0.05, offset=30, nums=150, device=device)\n",
    "#visualize.from_nn(net, bounds_from_mesh=output_stl)\n",
    "visualize.from_mesh(output_stl, sign_type=4)"
   ]
  },
  {
   "cell_type": "code",
   "execution_count": null,
   "metadata": {},
   "outputs": [],
   "source": [
    "from utils.dataset import TestDataset\n",
    "test_dataset = TestDataset(dataset_name+'_test.npz', device=device)\n",
    "print('Uniform SDFS: ', net.test(test_dataset.uniform.points, test_dataset.uniform.sdfs).cpu().detach().numpy())\n",
    "print('Random SDFS:', net.test(test_dataset.random.points, test_dataset.random.sdfs).cpu().detach().numpy())\n",
    "print('Outside SDFS:', net.test(test_dataset.outside.points, test_dataset.outside.sdfs).cpu().detach().numpy())\n",
    "print('Train residual: ', net.test_residual(train_dataset.points).cpu().detach().numpy())\n",
    "print('Uniform gradient: ', net.test_gradient(test_dataset.uniform.points, test_dataset.uniform.gradients).cpu().detach().numpy())\n",
    "print('Uniform residual: ', net.test_residual(test_dataset.uniform.points).cpu().detach().numpy(), net.test_residual(test_dataset.random.points).cpu().detach().numpy())\n",
    "print('Actual Uniform residual: ', torch.mean((test_dataset.uniform.gradients - 1)**2).cpu().detach().numpy())"
   ]
  }
 ],
 "metadata": {
  "interpreter": {
   "hash": "338d088b7365852483cbb7f745c4a9fbf18ad887a6ae80fcf58992043df108c7"
  },
  "kernelspec": {
   "display_name": "Python 3.9.7 64-bit ('sdf': conda)",
   "language": "python",
   "name": "python3"
  },
  "language_info": {
   "codemirror_mode": {
    "name": "ipython",
    "version": 3
   },
   "file_extension": ".py",
   "mimetype": "text/x-python",
   "name": "python",
   "nbconvert_exporter": "python",
   "pygments_lexer": "ipython3",
   "version": "3.9.10"
  },
  "orig_nbformat": 4
 },
 "nbformat": 4,
 "nbformat_minor": 2
}
