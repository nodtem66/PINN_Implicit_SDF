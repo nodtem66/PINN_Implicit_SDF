{
 "cells": [
  {
   "cell_type": "code",
   "execution_count": null,
   "metadata": {},
   "outputs": [],
   "source": [
    "%load_ext autoreload\n",
    "%autoreload 2\n",
    "# Add parent directory into system path\n",
    "import sys, os\n",
    "sys.path.insert(1, os.path.abspath(os.path.normpath('..')))"
   ]
  },
  {
   "cell_type": "code",
   "execution_count": null,
   "metadata": {},
   "outputs": [],
   "source": [
    "import torch\n",
    "from torch import nn\n",
    "from torch.nn.init import calculate_gain\n",
    "if torch.cuda.is_available():\n",
    "    for i in range(torch.cuda.device_count()):\n",
    "        print(f'CUDA {i}: {torch.cuda.get_device_name(i)}')\n",
    "device = torch.device(\"cuda:0\" if torch.cuda.is_available() else \"cpu\")\n",
    "torch.set_default_dtype(torch.float64)"
   ]
  },
  {
   "cell_type": "code",
   "execution_count": null,
   "metadata": {},
   "outputs": [],
   "source": [
    "from models.Wang2020 import M2\n",
    "net = M2(N_layers=8, width=32, activation=nn.ELU()).to(device)"
   ]
  },
  {
   "cell_type": "code",
   "execution_count": null,
   "metadata": {},
   "outputs": [],
   "source": [
    "import os\n",
    "from utils.dataset import ImplicitDataset\n",
    "\n",
    "dataset_name = '../datasets/box_1.0_10K_1M'\n",
    "output_stl = dataset_name+'.stl'\n",
    "train_dataset = ImplicitDataset.from_file(file=dataset_name+'_train.npz', device=device)\n",
    "print(train_dataset)"
   ]
  },
  {
   "cell_type": "code",
   "execution_count": null,
   "metadata": {},
   "outputs": [],
   "source": [
    "from utils.optimizer import CallbackScheduler\n",
    "\n",
    "# Optimization\n",
    "## ADA\n",
    "optimizer=torch.optim.Adam(net.parameters(), lr=0.001, betas=(0.9, 0.999), eps=1e-6, amsgrad=False)\n",
    "lr_scheduler = CallbackScheduler([\n",
    "    CallbackScheduler.reduce_lr(0.2),\n",
    "    CallbackScheduler.reduce_lr(0.2),\n",
    "    CallbackScheduler.init_LBFGS(\n",
    "        lr=1, max_iter=20, max_eval=40, \n",
    "        tolerance_grad=1e-5, tolerance_change=1e-9,\n",
    "        history_size=100,\n",
    "        line_search_fn=None\n",
    "    ),\n",
    "    CallbackScheduler.reduce_lr(0.2)\n",
    "], optimizer=optimizer, model=net, eps=1e-7, patience=300)"
   ]
  },
  {
   "cell_type": "code",
   "execution_count": 13,
   "metadata": {},
   "outputs": [
    {
     "name": "stdout",
     "output_type": "stream",
     "text": [
      "tensor(1., device='cuda:0') tensor(1., device='cuda:0') tensor(1., device='cuda:0')\n",
      "#0 Loss: 0.913321, 0.544858, 1.000000\n",
      "tensor(1., device='cuda:0') tensor(1., device='cuda:0') tensor(1., device='cuda:0')\n",
      "tensor(1., device='cuda:0') tensor(1., device='cuda:0') tensor(1., device='cuda:0')\n",
      "tensor(1., device='cuda:0') tensor(1., device='cuda:0') tensor(1., device='cuda:0')\n",
      "tensor(1., device='cuda:0') tensor(1., device='cuda:0') tensor(1., device='cuda:0')\n",
      "tensor(1., device='cuda:0') tensor(1., device='cuda:0') tensor(1., device='cuda:0')\n",
      "tensor(1., device='cuda:0') tensor(1., device='cuda:0') tensor(1., device='cuda:0')\n",
      "tensor(1., device='cuda:0') tensor(1., device='cuda:0') tensor(1., device='cuda:0')\n",
      "tensor(1., device='cuda:0') tensor(1., device='cuda:0') tensor(1., device='cuda:0')\n",
      "tensor(1., device='cuda:0') tensor(1., device='cuda:0') tensor(1., device='cuda:0')\n"
     ]
    }
   ],
   "source": [
    "#torch.autograd.set_detect_anomaly(True)\n",
    "max_epochs = 10\n",
    "PRINT_EVERY_EPOCH = 100\n",
    "try:\n",
    "    for epoch in range(max_epochs):\n",
    "        # Training\n",
    "        optimizer.zero_grad()\n",
    "        loss = net.loss(train_dataset.pde_points, train_dataset.bc_points, train_dataset.bc_sdfs)\n",
    "        loss.backward()\n",
    "      \n",
    "        lr_scheduler.optimizer.step(lambda: loss)\n",
    "        lr_scheduler.step_when((epoch % 500) == 499)\n",
    "        lr_scheduler.step_loss(loss)\n",
    "        \n",
    "        net.adaptive_lambda(train_dataset.pde_points, train_dataset.bc_points, train_dataset.bc_sdfs)\n",
    "\n",
    "        if epoch % PRINT_EVERY_EPOCH == 0:\n",
    "            print(f'#{epoch} Loss: {net._loss_PDE:.6f}, {net._loss_SDF:.6f}, {net.loss_lambda[0]:.6f}')\n",
    "except KeyboardInterrupt as e:\n",
    "    print('Bye bye')\n"
   ]
  },
  {
   "cell_type": "code",
   "execution_count": null,
   "metadata": {},
   "outputs": [],
   "source": [
    "from utils import SDFVisualize, plot_model_weight\n",
    "visualize = SDFVisualize(z_level=0, step=0.05, offset=30, nums=100)\n",
    "visualize.from_nn(net, bounds_from_mesh=output_stl, device=device, plot_gradient=True)\n",
    "visualize.from_mesh(output_stl, plot_gradient=True)"
   ]
  }
 ],
 "metadata": {
  "interpreter": {
   "hash": "338d088b7365852483cbb7f745c4a9fbf18ad887a6ae80fcf58992043df108c7"
  },
  "kernelspec": {
   "display_name": "Python 3.9.7 64-bit ('sdf': conda)",
   "name": "python3"
  },
  "language_info": {
   "codemirror_mode": {
    "name": "ipython",
    "version": 3
   },
   "file_extension": ".py",
   "mimetype": "text/x-python",
   "name": "python",
   "nbconvert_exporter": "python",
   "pygments_lexer": "ipython3",
   "version": "3.9.7"
  },
  "orig_nbformat": 4
 },
 "nbformat": 4,
 "nbformat_minor": 2
}
