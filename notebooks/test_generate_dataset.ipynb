{
 "cells": [
  {
   "cell_type": "code",
   "execution_count": 3,
   "metadata": {},
   "outputs": [],
   "source": [
    "%load_ext autoreload\n",
    "%autoreload 2\n",
    "# Add parent directory into system path\n",
    "import sys, os\n",
    "sys.path.insert(1, os.path.abspath(os.path.normpath('..')))"
   ]
  },
  {
   "cell_type": "code",
   "execution_count": 4,
   "metadata": {},
   "outputs": [],
   "source": [
    "from utils import generate_dataset, ImplicitDataset, TestDataset, SliceDataset\n",
    "import numpy as np\n",
    "from sdf import *\n",
    "import math\n",
    "\n",
    "@sdf3\n",
    "def gyroid(w = 3.14159, t=0):\n",
    "    def f(p):\n",
    "        q = w*p\n",
    "        x, y, z = (q[:, i] for i in range(3))\n",
    "        return (np.cos(x)*np.sin(y) + np.cos(y)*np.sin(z) + np.cos(z)*np.sin(x) - t)\n",
    "    return f"
   ]
  },
  {
   "cell_type": "code",
   "execution_count": 10,
   "metadata": {},
   "outputs": [
    {
     "name": "stdout",
     "output_type": "stream",
     "text": [
      "Saved file at ../datasets\\box_1f0_gyroid_4pi.stl\n",
      "ImplicitDataset (20000 PDE points, 6025 Dirichlet BCs)\n",
      "SliceDataset (10000 points)\n",
      "UniformMeshSDFDataset (97336 points)\n",
      "RandomMeshSDFDataset (100000 points)\n"
     ]
    }
   ],
   "source": [
    "generate_dataset(box(1.0) & gyroid(w=math.pi*4, t=0), N_train=2e4, N_test=1e5, name='box_1f0_gyroid_4pi', save_dir='../datasets')"
   ]
  },
  {
   "cell_type": "code",
   "execution_count": 11,
   "metadata": {},
   "outputs": [],
   "source": [
    "name = 'box_1f0_gyroid_4pi'\n",
    "train = ImplicitDataset.from_file(f'../datasets/{name}_train.npz')\n",
    "test = TestDataset(f'../datasets/{name}_test.npz')\n",
    "slice_dataset = SliceDataset.from_file(f'../datasets/{name}_slice.npz')"
   ]
  },
  {
   "cell_type": "code",
   "execution_count": 12,
   "metadata": {},
   "outputs": [
    {
     "name": "stdout",
     "output_type": "stream",
     "text": [
      "ImplicitDataset (20000 PDE points, 6025 Dirichlet BCs)\n",
      "TestDataset (97336 points, 100000 points)\n",
      "SliceDataset (10000 points)\n"
     ]
    }
   ],
   "source": [
    "print(train)\n",
    "print(test)\n",
    "print(slice_dataset)"
   ]
  },
  {
   "cell_type": "code",
   "execution_count": 13,
   "metadata": {},
   "outputs": [],
   "source": [
    "from torch.utils.data import DataLoader\n",
    "train_residual_dataloader = DataLoader(train.residual, batch_size=4096, shuffle=True)\n",
    "train_bc_dataloader = DataLoader(train.bc, batch_size=4096, shuffle=True)"
   ]
  },
  {
   "cell_type": "code",
   "execution_count": 14,
   "metadata": {},
   "outputs": [
    {
     "name": "stdout",
     "output_type": "stream",
     "text": [
      "torch.Size([4096, 3]) torch.Size([4096])\n",
      "torch.Size([1929, 3]) torch.Size([1929])\n"
     ]
    }
   ],
   "source": [
    "for _batch in train_bc_dataloader:\n",
    "    print(_batch['x'].shape, _batch['bc'].shape)"
   ]
  }
 ],
 "metadata": {
  "interpreter": {
   "hash": "338d088b7365852483cbb7f745c4a9fbf18ad887a6ae80fcf58992043df108c7"
  },
  "kernelspec": {
   "display_name": "Python 3.9.7 64-bit ('sdf': conda)",
   "name": "python3"
  },
  "language_info": {
   "codemirror_mode": {
    "name": "ipython",
    "version": 3
   },
   "file_extension": ".py",
   "mimetype": "text/x-python",
   "name": "python",
   "nbconvert_exporter": "python",
   "pygments_lexer": "ipython3",
   "version": "3.9.7"
  },
  "orig_nbformat": 4
 },
 "nbformat": 4,
 "nbformat_minor": 2
}
