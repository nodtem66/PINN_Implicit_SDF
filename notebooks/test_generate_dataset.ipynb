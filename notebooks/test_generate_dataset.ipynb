{
 "cells": [
  {
   "cell_type": "code",
   "execution_count": 1,
   "metadata": {},
   "outputs": [
    {
     "name": "stdout",
     "output_type": "stream",
     "text": [
      "[pyigl_import] module igl not found. trying to import pyigl\n"
     ]
    }
   ],
   "source": [
    "%load_ext autoreload\n",
    "%autoreload 2\n",
    "# Add parent directory into system path\n",
    "import sys, os\n",
    "sys.path.insert(1, os.path.abspath(os.path.normpath('..')))\n",
    "\n",
    "from utils.dataset_generator import generate_dataset, ImplicitDataset, TestDataset, SliceDataset\n",
    "import numpy as np\n",
    "from sdf import *\n",
    "import math\n",
    "\n",
    "@sdf3\n",
    "def gyroid(w = 3.14159, t=0):\n",
    "    def f(p):\n",
    "        q = w*p\n",
    "        x, y, z = (q[:, i] for i in range(3))\n",
    "        return (np.cos(x)*np.sin(y) + np.cos(y)*np.sin(z) + np.cos(z)*np.sin(x) - t)\n",
    "    return f"
   ]
  },
  {
   "cell_type": "code",
   "execution_count": 3,
   "metadata": {},
   "outputs": [
    {
     "name": "stdout",
     "output_type": "stream",
     "text": [
      "Saved file at ../datasets\\box_1f0_gyroid_4pi\\raw.stl\n",
      "ImplicitDataset (1000000 points)\n",
      "SliceDataset (10000 points)\n",
      "UniformMeshSDFDataset (2985984 points)\n",
      "RandomMeshSDFDataset[sobol] (12582912 points)\n"
     ]
    }
   ],
   "source": [
    "generate_dataset(box(1.0) & gyroid(w=math.pi*4, t=0), N_train=100*100*100, N_test=3e6, name='box_1f0_gyroid_4pi', save_dir='../datasets')"
   ]
  },
  {
   "cell_type": "code",
   "execution_count": 4,
   "metadata": {},
   "outputs": [],
   "source": [
    "name = 'box_1f0_gyroid_4pi'\n",
    "train = ImplicitDataset.from_file(f'../datasets/{name}/train.npz', device='cuda')\n",
    "#test = TestDataset(f'../datasets/{name}_test.npz')\n",
    "#slice_dataset = SliceDataset.from_file(f'../datasets/{name}_slice.npz')"
   ]
  },
  {
   "cell_type": "code",
   "execution_count": null,
   "metadata": {},
   "outputs": [],
   "source": [
    "from utils.dataset_generator import batch_loader\n",
    "\n",
    "for i in batch_loader(train.points, batch_size=10000):\n",
    "    print(i.shape)"
   ]
  },
  {
   "cell_type": "code",
   "execution_count": null,
   "metadata": {},
   "outputs": [],
   "source": [
    "from utils.geometry import Mesh\n",
    "mesh = Mesh(f'../datasets/{name}/raw.stl', doNormalize=True)\n",
    "bv, _ = mesh.bounding_box()\n",
    "np.min(bv, axis=0)"
   ]
  },
  {
   "cell_type": "code",
   "execution_count": null,
   "metadata": {},
   "outputs": [],
   "source": [
    "print(train)\n",
    "print(test)\n",
    "print(slice_dataset)\n",
    "print(test.random.points.shape)"
   ]
  },
  {
   "cell_type": "code",
   "execution_count": null,
   "metadata": {},
   "outputs": [],
   "source": [
    "ndim = round(train.sdfs.shape[0]**(1/3))\n",
    "print(ndim)\n",
    "points = train.points.reshape((ndim, ndim, ndim, 3))\n",
    "sdfs  = train.sdfs.reshape((ndim, ndim, ndim))\n",
    "true_sdfs  = train.true_sdfs.reshape((ndim, ndim, ndim))\n",
    "\n",
    "dx = points[1,1,1,:] - points[0,0,0,:]\n",
    "#grad = np.linalg.norm(np.array(np.gradient(sdfs, *dx)), axis=0)\n",
    "grad = train.grads.reshape((ndim, ndim, ndim, 3))\n",
    "norm_grad = np.linalg.norm(grad, axis=3)\n",
    "\n",
    "true_grad = train.true_grads.reshape((ndim, ndim, ndim, 3))\n",
    "norm_true_grad = np.linalg.norm(true_grad, axis=3)\n",
    "\n",
    "cosine_similarity = np.einsum('ij,ij->i', train.grads, train.true_grads).reshape((ndim,ndim,ndim)) / norm_grad / norm_true_grad\n",
    "\n",
    "slice_z = 20\n",
    "from utils.visualizer import SDFVisualize\n",
    "visualizer = SDFVisualize()\n",
    "visualizer._plot(sdfs[:, :, slice_z], norm_grad[:, :, slice_z])\n",
    "visualizer._plot(true_sdfs[:, :, slice_z], norm_true_grad[:, :, slice_z])\n",
    "visualizer._plot(sdfs[:, :, slice_z] - true_sdfs[:, :, slice_z])\n",
    "visualizer._plot(norm_grad[:, :, slice_z] - norm_true_grad[:, :, slice_z])\n",
    "visualizer._plot(cosine_similarity[:,:,slice_z])\n"
   ]
  },
  {
   "cell_type": "code",
   "execution_count": null,
   "metadata": {},
   "outputs": [],
   "source": [
    "import matplotlib.pyplot as plt\n",
    "_norm_grad = norm_grad.reshape((ndim**3,))\n",
    "_norm_true_grad = norm_true_grad.reshape((ndim**3,))\n",
    "plt.hist(_norm_grad, bins=120)\n",
    "plt.show()\n",
    "plt.hist(_norm_true_grad, bins=120)\n",
    "plt.show()"
   ]
  }
 ],
 "metadata": {
  "interpreter": {
   "hash": "338d088b7365852483cbb7f745c4a9fbf18ad887a6ae80fcf58992043df108c7"
  },
  "kernelspec": {
   "display_name": "Python 3.9.7 64-bit ('sdf': conda)",
   "name": "python3"
  },
  "language_info": {
   "codemirror_mode": {
    "name": "ipython",
    "version": 3
   },
   "file_extension": ".py",
   "mimetype": "text/x-python",
   "name": "python",
   "nbconvert_exporter": "python",
   "pygments_lexer": "ipython3",
   "version": "3.9.10"
  },
  "orig_nbformat": 4
 },
 "nbformat": 4,
 "nbformat_minor": 2
}
