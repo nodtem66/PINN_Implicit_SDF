{
 "cells": [
  {
   "cell_type": "code",
   "execution_count": 2,
   "metadata": {},
   "outputs": [],
   "source": [
    "%load_ext autoreload\n",
    "%autoreload 2\n",
    "# Add parent directory into system path\n",
    "import sys, os\n",
    "sys.path.insert(1, os.path.abspath(os.path.normpath('..')))"
   ]
  },
  {
   "cell_type": "code",
   "execution_count": 3,
   "metadata": {},
   "outputs": [],
   "source": [
    "from utils import generate_dataset\n",
    "import sdf\n",
    "import numpy as np"
   ]
  },
  {
   "cell_type": "code",
   "execution_count": 4,
   "metadata": {},
   "outputs": [
    {
     "name": "stdout",
     "output_type": "stream",
     "text": [
      "Saved file at ../datasets\\box_1.0_10K_1M.stl\n"
     ]
    }
   ],
   "source": [
    "generate_dataset(sdf.box(1.0), N_train=1e4, N_test=1e6, name='box_1.0_10K_1M', save_dir='../datasets')"
   ]
  },
  {
   "cell_type": "code",
   "execution_count": 12,
   "metadata": {},
   "outputs": [
    {
     "name": "stdout",
     "output_type": "stream",
     "text": [
      "-0.49153006834821217 0.8622470819481056\n"
     ]
    }
   ],
   "source": [
    "print(np.min(test.sdfs), np.max(test.sdfs))"
   ]
  },
  {
   "cell_type": "code",
   "execution_count": 33,
   "metadata": {},
   "outputs": [
    {
     "name": "stdout",
     "output_type": "stream",
     "text": [
      "Saved file at datasets\\sphere_0.5_1000_1e6.stl\n",
      "Implicit dataset (1000 PDE points, 256 Dirichlet BCs, and 600 Neumann BCs) MeshSDFDataset (1000000 points)\n"
     ]
    }
   ],
   "source": [
    "generate_dataset(sdf.sphere(0.5), name='sphere_0.5_1000_1e6', save_dir='datasets')"
   ]
  },
  {
   "cell_type": "code",
   "execution_count": 37,
   "metadata": {},
   "outputs": [
    {
     "name": "stdout",
     "output_type": "stream",
     "text": [
      "Saved file at datasets\\pyramid_1.0_1000_1e6.stl\n"
     ]
    },
    {
     "data": {
      "text/plain": [
       "(<models.dataset.ImplicitDataSet at 0x2168807a370>,\n",
       " <models.dataset.MeshSDFDataSet at 0x2168807ab20>)"
      ]
     },
     "execution_count": 37,
     "metadata": {},
     "output_type": "execute_result"
    }
   ],
   "source": [
    "generate_dataset(sdf.pyramid(1), name='pyramid_1.0_1000_1e6', save_dir='datasets')"
   ]
  },
  {
   "cell_type": "code",
   "execution_count": 6,
   "metadata": {},
   "outputs": [
    {
     "name": "stdout",
     "output_type": "stream",
     "text": [
      "Saved file at datasets\\tetrahedron_1.0_1000_1e6.stl\n"
     ]
    },
    {
     "data": {
      "text/plain": [
       "(<models.dataset.ImplicitDataSet at 0x1dc9a6ba610>,\n",
       " <models.dataset.MeshSDFDataSet at 0x1dc9a5ed610>)"
      ]
     },
     "execution_count": 6,
     "metadata": {},
     "output_type": "execute_result"
    }
   ],
   "source": [
    "generate_dataset(sdf.tetrahedron(1.0), name='tetrahedron_1.0_1000_1e6', save_dir='datasets')"
   ]
  },
  {
   "cell_type": "code",
   "execution_count": 4,
   "metadata": {},
   "outputs": [
    {
     "name": "stdout",
     "output_type": "stream",
     "text": [
      "Saved file at datasets\\octahedron_1.0_1000_1e6.stl\n"
     ]
    },
    {
     "data": {
      "text/plain": [
       "(<models.dataset.ImplicitDataSet at 0x1fb236de3d0>,\n",
       " <models.dataset.MeshSDFDataSet at 0x1fb7a10fa00>)"
      ]
     },
     "execution_count": 4,
     "metadata": {},
     "output_type": "execute_result"
    }
   ],
   "source": [
    "generate_dataset(sdf.octahedron(1.0), name='octahedron_1.0_1000_1e6', save_dir='datasets')"
   ]
  },
  {
   "cell_type": "code",
   "execution_count": 3,
   "metadata": {},
   "outputs": [
    {
     "name": "stdout",
     "output_type": "stream",
     "text": [
      "Saved file at datasets\\torus_1.0_0.25_1000_1e6.stl\n"
     ]
    },
    {
     "data": {
      "text/plain": [
       "(<models.dataset.ImplicitDataSet at 0x1fb7a12fd00>,\n",
       " <models.dataset.MeshSDFDataSet at 0x1fb7a12fc70>)"
      ]
     },
     "execution_count": 3,
     "metadata": {},
     "output_type": "execute_result"
    }
   ],
   "source": [
    "generate_dataset(sdf.torus(1, 0.25), name='torus_1.0_0.25_1000_1e6', save_dir='datasets')"
   ]
  },
  {
   "cell_type": "code",
   "execution_count": 5,
   "metadata": {},
   "outputs": [
    {
     "name": "stdout",
     "output_type": "stream",
     "text": [
      "Saved file at datasets\\dodecahedron_1.0_1000_1e6.stl\n"
     ]
    },
    {
     "data": {
      "text/plain": [
       "(<models.dataset.ImplicitDataSet at 0x1fb236de340>,\n",
       " <models.dataset.MeshSDFDataSet at 0x1fb236de460>)"
      ]
     },
     "execution_count": 5,
     "metadata": {},
     "output_type": "execute_result"
    }
   ],
   "source": [
    "generate_dataset(sdf.dodecahedron(1), name='dodecahedron_1.0_1000_1e6', save_dir='datasets')"
   ]
  },
  {
   "cell_type": "code",
   "execution_count": 6,
   "metadata": {},
   "outputs": [
    {
     "name": "stdout",
     "output_type": "stream",
     "text": [
      "Saved file at datasets\\icosahedron_1.0_1000_1e6.stl\n"
     ]
    },
    {
     "data": {
      "text/plain": [
       "(<models.dataset.ImplicitDataSet at 0x1fb236de8b0>,\n",
       " <models.dataset.MeshSDFDataSet at 0x1fb236de610>)"
      ]
     },
     "execution_count": 6,
     "metadata": {},
     "output_type": "execute_result"
    }
   ],
   "source": [
    "generate_dataset(sdf.icosahedron(1), name='icosahedron_1.0_1000_1e6', save_dir='datasets')"
   ]
  },
  {
   "cell_type": "code",
   "execution_count": 7,
   "metadata": {},
   "outputs": [
    {
     "name": "stdout",
     "output_type": "stream",
     "text": [
      "Saved file at datasets\\half_sphere_0.5_1000_1e6.stl\n"
     ]
    },
    {
     "data": {
      "text/plain": [
       "(<models.dataset.ImplicitDataSet at 0x1fb236de9d0>,\n",
       " <models.dataset.MeshSDFDataSet at 0x1fb236de670>)"
      ]
     },
     "execution_count": 7,
     "metadata": {},
     "output_type": "execute_result"
    }
   ],
   "source": [
    "generate_dataset(sdf.sphere(0.5) & sdf.plane(), name='half_sphere_0.5_1000_1e6', save_dir='datasets')"
   ]
  },
  {
   "cell_type": "code",
   "execution_count": 8,
   "metadata": {},
   "outputs": [
    {
     "name": "stdout",
     "output_type": "stream",
     "text": [
      "Saved file at datasets\\sphere_with_hole_1.0_1000_1e6.stl\n"
     ]
    },
    {
     "data": {
      "text/plain": [
       "(<models.dataset.ImplicitDataSet at 0x1fb236de430>,\n",
       " <models.dataset.MeshSDFDataSet at 0x1fb236deac0>)"
      ]
     },
     "execution_count": 8,
     "metadata": {},
     "output_type": "execute_result"
    }
   ],
   "source": [
    "generate_dataset(sdf.sphere() - sdf.cylinder(0.5), name='sphere_with_hole_1.0_1000_1e6', save_dir='datasets')"
   ]
  }
 ],
 "metadata": {
  "interpreter": {
   "hash": "338d088b7365852483cbb7f745c4a9fbf18ad887a6ae80fcf58992043df108c7"
  },
  "kernelspec": {
   "display_name": "Python 3.9.7 64-bit ('sdf': conda)",
   "name": "python3"
  },
  "language_info": {
   "codemirror_mode": {
    "name": "ipython",
    "version": 3
   },
   "file_extension": ".py",
   "mimetype": "text/x-python",
   "name": "python",
   "nbconvert_exporter": "python",
   "pygments_lexer": "ipython3",
   "version": "3.9.7"
  },
  "orig_nbformat": 4
 },
 "nbformat": 4,
 "nbformat_minor": 2
}
