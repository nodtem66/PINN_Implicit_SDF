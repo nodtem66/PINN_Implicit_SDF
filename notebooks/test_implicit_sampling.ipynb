{
 "cells": [
  {
   "cell_type": "code",
   "execution_count": null,
   "metadata": {},
   "outputs": [],
   "source": [
    "%load_ext autoreload\n",
    "%autoreload 2\n",
    "# Add parent directory into system path\n",
    "import sys, os\n",
    "sys.path.insert(1, os.path.abspath(os.path.normpath('..')))\n",
    "\n",
    "import numpy as np\n",
    "from sdf import *\n",
    "from scipy.stats import describe\n",
    "\n",
    "@sdf3\n",
    "def gyroid(w = 3.14159, t=0):\n",
    "    def f(p):\n",
    "        q = w*p\n",
    "        x, y, z = (q[:, i] for i in range(3))\n",
    "        return (np.cos(x)*np.sin(y) + np.cos(y)*np.sin(z) + np.cos(z)*np.sin(x) - t)\n",
    "    return f"
   ]
  },
  {
   "cell_type": "code",
   "execution_count": null,
   "metadata": {},
   "outputs": [],
   "source": [
    "from sdf.mesh import _estimate_bounds, _cartesian_product\n",
    "\n",
    "# Generate STL from implicit f\n",
    "output_stl = 'tmp.stl'\n",
    "f = box(1) & gyroid(w=12)\n",
    "f.save(output_stl, step=0.01)\n",
    "\n",
    "from utils import igl\n",
    "print(os.path.exists(output_stl))\n",
    "_v, _f = igl.read_triangle_mesh(output_stl)\n",
    "bv, bf = igl.bounding_box(_v)\n",
    "\n",
    "# calcualte lvl_set of f\n",
    "nums = 100\n",
    "offset = .1\n",
    "#bounds = _estimate_bounds(f)\n",
    "bounds = (bv[0], bv[-1]) if np.mean(bv[0]) < np.mean(bv[-1]) else (bv[-1], bv[0])\n",
    "(x0, y0, z0), (x1, y1, z1) = bounds\n",
    "\n",
    "X = np.linspace(x0-offset, x1+offset, nums, dtype=np.float32)\n",
    "Y = np.linspace(y0-offset, y1+offset, nums, dtype=np.float32)\n",
    "Z = np.linspace(z0-offset, z1+offset, nums, dtype=np.float32)\n",
    "\n",
    "P = _cartesian_product(X, Y, Z).astype(np.float32)\n",
    "lvl_set = f(P).astype(np.float32).squeeze()"
   ]
  },
  {
   "cell_type": "code",
   "execution_count": 30,
   "metadata": {},
   "outputs": [],
   "source": [
    "from utils.geometry import ImportanceImplicitSampler\n",
    "sampler = ImportanceImplicitSampler(lvl_set)"
   ]
  }
 ],
 "metadata": {
  "interpreter": {
   "hash": "338d088b7365852483cbb7f745c4a9fbf18ad887a6ae80fcf58992043df108c7"
  },
  "kernelspec": {
   "display_name": "Python 3.9.7 64-bit ('sdf': conda)",
   "language": "python",
   "name": "python3"
  },
  "language_info": {
   "codemirror_mode": {
    "name": "ipython",
    "version": 3
   },
   "file_extension": ".py",
   "mimetype": "text/x-python",
   "name": "python",
   "nbconvert_exporter": "python",
   "pygments_lexer": "ipython3",
   "version": "3.9.7"
  },
  "orig_nbformat": 4
 },
 "nbformat": 4,
 "nbformat_minor": 2
}
