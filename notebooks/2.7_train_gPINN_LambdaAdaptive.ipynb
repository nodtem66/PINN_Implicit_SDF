{
 "cells": [
  {
   "cell_type": "code",
   "execution_count": 1,
   "metadata": {},
   "outputs": [],
   "source": [
    "%load_ext autoreload\n",
    "%autoreload 2\n",
    "# Add parent directory into system path\n",
    "import sys, os\n",
    "sys.path.insert(1, os.path.abspath(os.path.normpath('..')))"
   ]
  },
  {
   "cell_type": "code",
   "execution_count": 2,
   "metadata": {},
   "outputs": [
    {
     "name": "stdout",
     "output_type": "stream",
     "text": [
      "CUDA 0: NVIDIA GeForce GTX 1650 Ti\n"
     ]
    }
   ],
   "source": [
    "import torch\n",
    "from torch import nn\n",
    "from torch.nn.init import calculate_gain\n",
    "if torch.cuda.is_available():\n",
    "    for i in range(torch.cuda.device_count()):\n",
    "        print(f'CUDA {i}: {torch.cuda.get_device_name(i)}')\n",
    "device = torch.device(\"cuda:0\" if torch.cuda.is_available() else \"cpu\")\n",
    "torch.set_default_dtype(torch.float64)"
   ]
  },
  {
   "cell_type": "code",
   "execution_count": 3,
   "metadata": {},
   "outputs": [],
   "source": [
    "from models import MLP_gPINN_LambdaAdaptive\n",
    "net = MLP_gPINN_LambdaAdaptive(N_layers=8, width=32, useRatioOfRatio=True, activation=nn.ELU()).to(device)"
   ]
  },
  {
   "cell_type": "code",
   "execution_count": 4,
   "metadata": {},
   "outputs": [
    {
     "name": "stdout",
     "output_type": "stream",
     "text": [
      "Implicit dataset (15344 PDE points, 4384 Dirichlet BCs)\n",
      "MeshSDFDataset (1000000 points)\n"
     ]
    }
   ],
   "source": [
    "import os\n",
    "from utils.dataset import ImplicitDataset\n",
    "\n",
    "dataset_name = '../datasets/box_1.0_10K_1M'\n",
    "output_stl = dataset_name+'.stl'\n",
    "train_dataset = ImplicitDataset.from_file(file=dataset_name+'_train.npz', device=device)\n",
    "print(train_dataset)"
   ]
  },
  {
   "cell_type": "code",
   "execution_count": 5,
   "metadata": {},
   "outputs": [],
   "source": [
    "from utils.optimizer import CallbackScheduler\n",
    "import torch_optimizer\n",
    "\n",
    "# Optimization\n",
    "## ADA\n",
    "optimizer=torch_optimizer.AdaBound(net.parameters(), lr=0.001, betas=(0.9, 0.999))\n",
    "#optimizer=torch.optim.Adam(net.parameters(), lr=0.001, betas=(0.9, 0.999), eps=1e-6, amsgrad=False)\n",
    "lr_scheduler = CallbackScheduler([\n",
    "    # CallbackScheduler.reduce_lr(0.2),\n",
    "    # CallbackScheduler.reduce_lr(0.2),\n",
    "    # CallbackScheduler.init_LBFGS(\n",
    "    #     lr=1, max_iter=20, max_eval=40, \n",
    "    #     tolerance_grad=1e-5, tolerance_change=1e-9,\n",
    "    #     history_size=100,\n",
    "    #     line_search_fn=None\n",
    "    # ),\n",
    "    # CallbackScheduler.reduce_lr(0.2)\n",
    "], optimizer=optimizer, model=net, eps=1e-7, patience=300)"
   ]
  },
  {
   "cell_type": "code",
   "execution_count": 6,
   "metadata": {},
   "outputs": [
    {
     "name": "stdout",
     "output_type": "stream",
     "text": [
      "#0 Loss: 2.314203, 0.599361, 121.416587\n",
      "#100 Loss: 1.000000, 1.285427, 0.000000\n",
      "#200 Loss: 1.000000, 1.285427, 0.000000\n",
      "Bye bye\n"
     ]
    }
   ],
   "source": [
    "max_epochs = 2500\n",
    "PRINT_EVERY_EPOCH = 100\n",
    "try:\n",
    "    for epoch in range(max_epochs):\n",
    "        # Training\n",
    "        optimizer.zero_grad()\n",
    "        loss = net.loss(train_dataset.pde_points, train_dataset.bc_points, train_dataset.bc_sdfs, train_dataset.pde_points)\n",
    "        loss.backward()\n",
    "      \n",
    "        lr_scheduler.optimizer.step(lambda: loss)\n",
    "        lr_scheduler.step_when((epoch % 500) == 499)\n",
    "        lr_scheduler.step_loss(loss)    \n",
    "\n",
    "        if (epoch % 10) == 0:\n",
    "            net.adaptive_lambda(train_dataset.pde_points, train_dataset.bc_points, train_dataset.bc_sdfs, train_dataset.pde_points)         \n",
    "\n",
    "        if epoch % PRINT_EVERY_EPOCH == 0:\n",
    "            print(f'#{epoch} Loss: {net._loss_PDE:.6f}, {net._loss_SDF:.6f}, {net._loss_gradient_PDE:.6f}')\n",
    "except KeyboardInterrupt as e:\n",
    "    print('Bye bye')\n"
   ]
  },
  {
   "cell_type": "code",
   "execution_count": null,
   "metadata": {},
   "outputs": [],
   "source": [
    "from utils import SDFVisualize\n",
    "visualize = SDFVisualize(z_level=0, step=0.05, offset=30, nums=100)\n",
    "visualize.from_nn(net, bounds_from_mesh=output_stl, device=device, plot_gradient=True)\n",
    "visualize.from_mesh(output_stl, plot_gradient=True)"
   ]
  }
 ],
 "metadata": {
  "interpreter": {
   "hash": "338d088b7365852483cbb7f745c4a9fbf18ad887a6ae80fcf58992043df108c7"
  },
  "kernelspec": {
   "display_name": "Python 3.9.7 64-bit ('sdf': conda)",
   "name": "python3"
  },
  "language_info": {
   "codemirror_mode": {
    "name": "ipython",
    "version": 3
   },
   "file_extension": ".py",
   "mimetype": "text/x-python",
   "name": "python",
   "nbconvert_exporter": "python",
   "pygments_lexer": "ipython3",
   "version": "3.9.7"
  },
  "orig_nbformat": 4
 },
 "nbformat": 4,
 "nbformat_minor": 2
}
