{
    "cells": [
        {
            "cell_type": "markdown",
            "metadata": {},
            "source": [
                "# TPMS with SDF and PyScaffolder\n",
                "Author: [Jirawat Iamsamang](https://github.com/nodtem66)  \n",
                "\n",
                "## Abstract\n",
                "SDF provides a class for discretizing and visualizing any implicit surfaces. The basic topologies (e.g. sphere, box) are already defined.\n",
                "This notebook shows how to utilize this library to generate gyroid surface.\n",
                "\n",
                "## Installation\n",
                "* Currently, SDF is not in PyPI. So the [github of SDF](https://github.com/fogleman/sdf) needs to clone into local computer. See [Installation](https://github.com/fogleman/sdf#installation)\n",
                "* By contrast, PyScaffolder was installed by `pip install PyScaffolder`\n",
                "\n",
                "## Gyroid\n",
                "The gyroid function is defined as shown in a following cell.  \n",
                "The wrapper `@sdf3` will provide gyroid function with 3D points (`p`)).\n",
                "Then these (x,y, z) points will multiply by `w` and calculate the iso-level of gyroid by vectorized numpy function. "
            ]
        },
        {
            "cell_type": "code",
            "execution_count": 2,
            "metadata": {},
            "outputs": [
                {
                    "name": "stdout",
                    "output_type": "stream",
                    "text": [
                        "The autoreload extension is already loaded. To reload it, use:\n",
                        "  %reload_ext autoreload\n"
                    ]
                }
            ],
            "source": [
                "%load_ext autoreload\n",
                "%autoreload 2\n",
                "# Add parent directory into system path\n",
                "import sys, os\n",
                "sys.path.insert(1, os.path.abspath(os.path.normpath('..')))\n",
                "\n",
                "import numpy as np\n",
                "from sdf import *\n",
                "\n",
                "@sdf3\n",
                "def gyroid(w = 3.14159, t=0):\n",
                "    def f(p):\n",
                "        q = w*p\n",
                "        x, y, z = (q[:, i] for i in range(3))\n",
                "        return np.cos(x)*np.sin(y) + np.cos(y)*np.sin(z) + np.cos(z)*np.sin(x) - t\n",
                "    return f"
            ]
        },
        {
            "cell_type": "markdown",
            "metadata": {},
            "source": [
                "## Generate with SKimage\n",
                "SDF used `marching_cubes` from `skimage.measure` with a `ThreadPool`, so it's super fast to construct the 3D mesh.\n",
                "Let's create a constructing function that intersect a gyroid and a unit box."
            ]
        },
        {
            "cell_type": "code",
            "execution_count": 2,
            "metadata": {},
            "outputs": [],
            "source": [
                "f = box(1) & gyroid(w=12)"
            ]
        },
        {
            "cell_type": "code",
            "execution_count": 6,
            "metadata": {},
            "outputs": [
                {
                    "name": "stdout",
                    "output_type": "stream",
                    "text": [
                        "min -0.565721, -0.565721, -0.565721\n",
                        "max 0.565722, 0.565722, 0.565722\n",
                        "step 0.01, 0.01, 0.01\n",
                        "1601613 samples in 64 batches with 16 workers\n",
                        "\n",
                        "7 skipped, 0 empty, 57 nonempty\n",
                        "233958 triangles in 0.339391 seconds\n"
                    ]
                }
            ],
            "source": [
                "# Generate with skimage.measure.marching_cubes\n",
                "points = f.generate(step=0.01, verbose=True)\n",
                "write_binary_stl('out_1.stl', points)"
            ]
        },
        {
            "cell_type": "markdown",
            "metadata": {},
            "source": [
                "## Generate with PyScaffolder\n",
                "\n",
                "However, this method occasionally results in incomplete mesh.  \n",
                "Then let's try `Pyscaffolder.marching_cubes` which implements `dual marching cubes` from [@dominikwodniok/dualmc](https://github.com/dominikwodniok/dualmc)."
            ]
        },
        {
            "cell_type": "code",
            "execution_count": 4,
            "metadata": {},
            "outputs": [
                {
                    "name": "stdout",
                    "output_type": "stream",
                    "text": [
                        "min -0.565721, -0.565721, -0.565721\n",
                        "max 0.565722, 0.565722, 0.565722\n",
                        "step 0.01, 0.01, 0.01\n",
                        "\n",
                        "233958 triangles in 0.401011 seconds\n"
                    ]
                }
            ],
            "source": [
                "# Generate with PyScaffolder.marching_cubes\n",
                "def marching_cubes(f, step=0.01, bounds=None, verbose=True, clean=True):\n",
                "    from sdf.mesh import _estimate_bounds, _cartesian_product\n",
                "    import time\n",
                "\n",
                "    if not bounds:\n",
                "        bounds = _estimate_bounds(f)\n",
                "    (x0, y0, z0), (x1, y1, z1) = bounds\n",
                "    \n",
                "    try:\n",
                "        dx, dy, dz = step\n",
                "    except TypeError:\n",
                "        dx = dy = dz = step\n",
                "    \n",
                "    if verbose:\n",
                "        print('min %g, %g, %g' % (x0, y0, z0))\n",
                "        print('max %g, %g, %g' % (x1, y1, z1))\n",
                "        print('step %g, %g, %g' % (dx, dy, dz))\n",
                "\n",
                "    X = np.arange(x0, x1, dx)\n",
                "    Y = np.arange(y0, y1, dy)\n",
                "    Z = np.arange(z0, z1, dz)\n",
                "\n",
                "    P = _cartesian_product(X, Y, Z)\n",
                "    try:\n",
                "        # Since the PyScaffolder marching_cubes aceept FREP: F(x,y,z) > 0\n",
                "        # Then the negative of implicit function is used\n",
                "        Fxyz = (-f(P))\n",
                "        # Reshape to Fortran array (column-based) due to implementation of dualmc starting from z axis to x\n",
                "        Fxyz = Fxyz.reshape((len(X), len(Y), len(Z))).reshape(-1, order='F')\n",
                "        start = time.time()\n",
                "        (v, f) = PyScaffolder.marching_cubes(Fxyz, grid_size=[len(X), len(Y), len(Z)], v_min=bounds[0], delta=step, clean=clean)\n",
                "        if verbose:\n",
                "            seconds = time.time() - start\n",
                "            print('\\n%d triangles in %g seconds' % (len(points) // 3, seconds))\n",
                "        # merge vertices and faces into points\n",
                "        return v[f].reshape((-1, 3))\n",
                "    except Exception as e:\n",
                "        print(e)\n",
                "        return np.array([])\n",
                "\n",
                "points = marching_cubes(f, step=0.01, verbose=True, clean=True)\n",
                "write_binary_stl('out_2.stl', points)"
            ]
        }
    ],
    "metadata": {
        "interpreter": {
            "hash": "338d088b7365852483cbb7f745c4a9fbf18ad887a6ae80fcf58992043df108c7"
        },
        "kernelspec": {
            "display_name": "Python 3.9.7 64-bit ('sdf': conda)",
            "name": "python3"
        },
        "language_info": {
            "codemirror_mode": {
                "name": "ipython",
                "version": 3
            },
            "file_extension": ".py",
            "mimetype": "text/x-python",
            "name": "python",
            "nbconvert_exporter": "python",
            "pygments_lexer": "ipython3",
            "version": "3.9.10"
        },
        "orig_nbformat": 4
    },
    "nbformat": 4,
    "nbformat_minor": 2
}
