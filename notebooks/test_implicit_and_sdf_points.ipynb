{
 "cells": [
  {
   "cell_type": "code",
   "execution_count": 48,
   "metadata": {},
   "outputs": [
    {
     "name": "stdout",
     "output_type": "stream",
     "text": [
      "The autoreload extension is already loaded. To reload it, use:\n",
      "  %reload_ext autoreload\n"
     ]
    }
   ],
   "source": [
    "%load_ext autoreload\n",
    "%autoreload 2\n",
    "# Add parent directory into system path\n",
    "import sys, os\n",
    "sys.path.insert(1, os.path.abspath(os.path.normpath('..')))\n",
    "\n",
    "import numpy as np\n",
    "from sdf import *\n",
    "from utils.external_import import igl\n",
    "import sdf\n",
    "\n",
    "@sdf3\n",
    "def gyroid(w = 3.14159, t=0):\n",
    "    def f(p):\n",
    "        q = w*p\n",
    "        x, y, z = (q[:, i] for i in range(3))\n",
    "        return (np.cos(x)*np.sin(y) + np.cos(y)*np.sin(z) + np.cos(z)*np.sin(x) - t)\n",
    "    return f\n",
    "\n",
    "box(1.0) & gyroid(w=math.pi*4, t=0)\n",
    "\n",
    "class ImplicitDataset():\n",
    "    def __init__(\n",
    "        self, f, N=1000, scale_offset=0.1,\n",
    "        output_stl='tmp.stl', device=None, from_file:str=None, from_dataset:dict=None,\n",
    "        *args, **vargs\n",
    "    ):\n",
    "        _ndim = round(N**(1/3))\n",
    "        if _ndim <= 0:\n",
    "            raise ValueError('N must be greater than or equal to 1')\n",
    "        # Generate grid (x,y,z) from cartesian product\n",
    "        (x0, y0, z0), (x1, y1, z1) = sdf.mesh._estimate_bounds(f)\n",
    "        offset_x = abs(scale_offset*(x0-x1))\n",
    "        offset_y = abs(scale_offset*(y0-y1))\n",
    "        offset_z = abs(scale_offset*(z0-z1))\n",
    "        assert(x0 <= x1 and y0 <= y1 and z0 <= z1 and offset_x >= 0 and offset_y >= 0 and offset_z >= 0)\n",
    "\n",
    "        X = np.linspace(x0-offset_x, x1+offset_x, _ndim, dtype=np.float32)\n",
    "        Y = np.linspace(y0-offset_y, y1+offset_y, _ndim, dtype=np.float32)\n",
    "        Z = np.linspace(y0-offset_z, y1+offset_z, _ndim, dtype=np.float32)\n",
    "        self.points = sdf.mesh._cartesian_product(X, Y, Z)\n",
    "        \n",
    "        lvl_set = f(self.points).reshape((_ndim, _ndim, _ndim))\n",
    "        dx = (X[1] - X[0], Y[1] - Y[0], Z[1] - Z[0])\n",
    "        import skfmm\n",
    "        sdfs = skfmm.distance(lvl_set, dx=dx, periodic=[True, True, True])\n",
    "        grad = np.array(np.gradient(sdfs, *dx))\n",
    "        self.sdfs = sdfs.reshape((_ndim**3,)).squeeze()\n",
    "        self.grads = grad.reshape((3, _ndim**3)).T\n",
    "\n",
    "        try:\n",
    "            temp_filename = os.path.normpath(output_stl)\n",
    "            sdf.write_binary_stl(temp_filename, f.generate(step=dx[0], verbose=False, method=1))\n",
    "            # Load mesh\n",
    "            v,f = igl.read_triangle_mesh(temp_filename)\n",
    "            _, _, _, self.true_normals = igl.signed_distance(self.points, v, f, 0, return_normals=True)\n",
    "            self.true_sdfs, _, _ = igl.signed_distance(self.points, v, f, 4)\n",
    "            self.true_grads = np.array(np.gradient(self.true_sdfs.reshape((_ndim, _ndim, _ndim)), *dx))\n",
    "            self.true_grads = self.true_grads.reshape((3, _ndim**3)).T\n",
    "\n",
    "        except Exception as e:\n",
    "            print(\"warning: \", e)"
   ]
  },
  {
   "cell_type": "code",
   "execution_count": 49,
   "metadata": {},
   "outputs": [],
   "source": [
    "N_train=40*40*40\n",
    "N_test=1e6\n",
    "name='box_1f0_gyroid_4pi'\n",
    "save_dir='../datasets'\n",
    "output_stl = os.path.join(save_dir, name + '.stl')\n",
    "\n",
    "train_dataset = ImplicitDataset(\n",
    "    f=box(1.0) & gyroid(w=math.pi*4, t=0), \n",
    "    N=int(N_train), scale_offset=0.1, output_stl=output_stl\n",
    ")"
   ]
  },
  {
   "cell_type": "code",
   "execution_count": 51,
   "metadata": {},
   "outputs": [],
   "source": [
    "norm_p = train_dataset.true_grads / np.linalg.norm(train_dataset.true_grads, axis=1).reshape(-1, 1)"
   ]
  },
  {
   "cell_type": "code",
   "execution_count": 52,
   "metadata": {},
   "outputs": [
    {
     "data": {
      "text/plain": [
       "DescribeResult(nobs=64000, minmax=(array([-1.39565557, -1.39185685, -1.52181009]), array([1.39685536, 1.54212218, 1.54354161])), mean=array([-0.01510923, -0.01396228, -0.0017386 ]), variance=array([0.06630257, 0.06471593, 0.06694999]), skewness=array([-0.27682884, -0.27383255, -0.13487733]), kurtosis=array([3.46693667, 3.51037346, 3.49661017]))"
      ]
     },
     "execution_count": 52,
     "metadata": {},
     "output_type": "execute_result"
    }
   ],
   "source": [
    "describe(norm_p - train_dataset.true_normals)"
   ]
  },
  {
   "cell_type": "code",
   "execution_count": 55,
   "metadata": {},
   "outputs": [
    {
     "data": {
      "text/plain": [
       "array([0.93254797, 0.91516209, 0.94604783, ..., 0.88771478, 0.85966961,\n",
       "       0.83834951])"
      ]
     },
     "execution_count": 55,
     "metadata": {},
     "output_type": "execute_result"
    }
   ],
   "source": [
    "np.einsum('ij,ij->i',norm_p, train_dataset.true_normals)"
   ]
  }
 ],
 "metadata": {
  "interpreter": {
   "hash": "338d088b7365852483cbb7f745c4a9fbf18ad887a6ae80fcf58992043df108c7"
  },
  "kernelspec": {
   "display_name": "Python 3.9.7 64-bit ('sdf': conda)",
   "language": "python",
   "name": "python3"
  },
  "language_info": {
   "codemirror_mode": {
    "name": "ipython",
    "version": 3
   },
   "file_extension": ".py",
   "mimetype": "text/x-python",
   "name": "python",
   "nbconvert_exporter": "python",
   "pygments_lexer": "ipython3",
   "version": "3.9.10"
  },
  "orig_nbformat": 4
 },
 "nbformat": 4,
 "nbformat_minor": 2
}
