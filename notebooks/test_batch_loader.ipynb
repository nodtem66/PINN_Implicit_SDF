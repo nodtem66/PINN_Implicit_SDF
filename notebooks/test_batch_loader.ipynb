{
 "cells": [
  {
   "cell_type": "code",
   "execution_count": 42,
   "metadata": {},
   "outputs": [],
   "source": [
    "%load_ext autoreload\n",
    "%autoreload 2\n",
    "# Add parent directory into system path\n",
    "import sys, os\n",
    "sys.path.insert(1, os.path.abspath(os.path.normpath('..')))"
   ]
  },
  {
   "cell_type": "code",
   "execution_count": 79,
   "metadata": {},
   "outputs": [],
   "source": [
    "def batch_loader(*args, batch_size=None, num_batches:int=10):\n",
    "    \"\"\"\n",
    "    Fast batch loader without collate_fn\n",
    "    \n",
    "    Parameters\n",
    "    ----------\n",
    "    - :attr:`*args`: `torch.tensor` or `numpy.array` \\n\n",
    "        The first dimension (`shape[0]`) of all input must be the same\n",
    "    - :attr:`batch_size`: int | None \\n\n",
    "        The number of batch size. If it equals to `None`, the `batch_size` will be calculated from `num_batches`\n",
    "    - :attr:`num_batches`: int \\n\n",
    "        The total number of batches (default=10). If `batch_size` is not `None`, `num_batches` will be ignored.\n",
    "\n",
    "    Returns\n",
    "    -------\n",
    "    Generator of tuples of a batch\n",
    "\n",
    "    Example\n",
    "    -------\n",
    "    ```python\n",
    "    >> bl = batch_loader(np.ones((100,3)), np.ones(100), batch_size=30)\n",
    "    >> for x, y in bl:\n",
    "    >>    print(x.shape, y.shape)\n",
    "    (30, 3) (30,)\n",
    "    (30, 3) (30,)\n",
    "    (30, 3) (30,)\n",
    "    (10, 3) (10,)\n",
    "    ```\n",
    "    \"\"\"\n",
    "    assert len(args) > 0, 'Missing input'\n",
    "    assert all([hasattr(x, 'shape') for x in args]), 'arguments must be torch.tensor or numpy.array'\n",
    "    total_length = [x.shape[0] for x in args]\n",
    "    assert total_length.count(total_length[0]) == len(total_length), f'The first dimension of every tensor or array must be the same: {total_length}'\n",
    "    \n",
    "    if batch_size is None:\n",
    "        batch_size = total_length[0] // num_batches\n",
    "\n",
    "    return (\n",
    "        tuple(x[start:start+batch_size] for x in args) for start in range(0, total_length[0], batch_size)\n",
    "    )\n",
    "\n",
    "def run_batch(callback, *args, reducer=None, **kwarg):\n",
    "    \"\"\"\n",
    "    Run `callback` with `batch_loader`\n",
    "    see `utils/dataset_generator.py`:`batch_loader` for more information\n",
    "\n",
    "    Parameters\n",
    "    ----------\n",
    "    - :attr:`callback`: function to run for each batch\n",
    "    - :attr:`*args`: `torch.tensor` or `numpy.array` \\n\n",
    "        The first dimension (`shape[0]`) of all input must be the same\n",
    "    - :attr:`reducer`: function to combine the result of calculation for each batch\n",
    "    - :attr:`batch_size`: int | None \\n\n",
    "        The number of batch size. If it equals to `None`, the `batch_size` will be calculated from `num_batches`\n",
    "    - :attr:`num_batches`: int \\n\n",
    "        The total number of batches (default=10). If `batch_size` is not `None`, `num_batches` will be ignored.\n",
    "    \n",
    "    Returns:\n",
    "    Any\n",
    "\n",
    "    Example\n",
    "    -------\n",
    "    ```\n",
    "    >> class A:\n",
    "    >>    def f1(self, x, y):\n",
    "    >>        return np.mean(np.mean(x) + y)\n",
    "    >> a = A()\n",
    "    >> run_batch(a.f1, np.ones((100, 3)), np.ones(100), reducer=np.mean, batch_size=30)\n",
    "    2.0\n",
    "\n",
    "    >> class B:\n",
    "    >>    def f1(self, x, y):\n",
    "    >>        return torch.mean(torch.mean(x) + y)\n",
    "    >> b = B()\n",
    "    >> run_batch(b.f1, torch.ones((100, 3), device='cuda'), torch.ones(100, device='cuda'), reducer=torch.mean, batch_size=30)\n",
    "    tensor(2., device='cuda:0')\n",
    "    ```\n",
    "    \"\"\"\n",
    "    is_self = 'self' in callback.__code__.co_varnames\n",
    "    callback_args_count = callback.__code__.co_argcount - (1 if is_self else 0) \n",
    "    if callback_args_count != len(args):\n",
    "        print(f'[warning] The number of arguments of callback have to match input arguments: {callback_args_count} != {len(args)}')\n",
    "    \n",
    "    result = [callback(*x) for x in batch_loader(*args, **kwarg)]\n",
    "    if isinstance(args[0], torch.Tensor):\n",
    "        assert hasattr(args[0], 'device'), 'torch.Tensor should have device attribute'\n",
    "        result = torch.tensor(result, device=args[0].device)\n",
    "    \n",
    "    return result if reducer is None else reducer(result)\n",
    "    "
   ]
  },
  {
   "cell_type": "code",
   "execution_count": 81,
   "metadata": {},
   "outputs": [
    {
     "name": "stdout",
     "output_type": "stream",
     "text": [
      "[warning] The number of arguments of callback have to match input arguments: 0 != 2\n"
     ]
    },
    {
     "data": {
      "text/plain": [
       "tensor(1.1628, device='cuda:0')"
      ]
     },
     "execution_count": 81,
     "metadata": {},
     "output_type": "execute_result"
    }
   ],
   "source": [
    "import torch\n",
    "from models.MLP import Davies2021\n",
    "net = Davies2021(N_layers=8, width=28, activation=torch.nn.Softplus(30), last_activation=torch.nn.Softplus(30)).to('cuda')\n",
    "#net = Davies2021(N_layers=8, width=28, activation=nn.SiLU(), last_activation=nn.Identity()).to(device)\n",
    "\n",
    "run_batch(net.test, torch.ones((100, 3), device='cuda'), torch.ones((100,), device='cuda'), reducer=torch.mean, batch_size=30)"
   ]
  },
  {
   "cell_type": "code",
   "execution_count": 74,
   "metadata": {},
   "outputs": [
    {
     "data": {
      "text/plain": [
       "'C:\\\\Users\\\\Jirawat\\\\miniconda3\\\\envs\\\\sdf\\\\lib\\\\site-packages\\\\torch\\\\autograd\\\\grad_mode.py'"
      ]
     },
     "execution_count": 74,
     "metadata": {},
     "output_type": "execute_result"
    }
   ],
   "source": [
    "net.test.__code__.co_filename"
   ]
  }
 ],
 "metadata": {
  "interpreter": {
   "hash": "338d088b7365852483cbb7f745c4a9fbf18ad887a6ae80fcf58992043df108c7"
  },
  "kernelspec": {
   "display_name": "Python 3.9.10 ('sdf')",
   "language": "python",
   "name": "python3"
  },
  "language_info": {
   "codemirror_mode": {
    "name": "ipython",
    "version": 3
   },
   "file_extension": ".py",
   "mimetype": "text/x-python",
   "name": "python",
   "nbconvert_exporter": "python",
   "pygments_lexer": "ipython3",
   "version": "3.9.10"
  },
  "orig_nbformat": 4
 },
 "nbformat": 4,
 "nbformat_minor": 2
}
