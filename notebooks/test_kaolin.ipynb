{
 "cells": [
  {
   "cell_type": "code",
   "execution_count": 1,
   "metadata": {},
   "outputs": [
    {
     "name": "stdout",
     "output_type": "stream",
     "text": [
      "CUDA 0: NVIDIA GeForce GTX 1650 Ti\n"
     ]
    }
   ],
   "source": [
    "%load_ext autoreload\n",
    "%autoreload 2\n",
    "# Add parent directory into system path\n",
    "import sys, os\n",
    "sys.path.insert(1, os.path.abspath(os.path.normpath('..')))\n",
    "\n",
    "import torch\n",
    "from torch import nn\n",
    "from torch.nn.init import calculate_gain\n",
    "\n",
    "if torch.cuda.is_available():\n",
    "    for i in range(torch.cuda.device_count()):\n",
    "        print(f'CUDA {i}: {torch.cuda.get_device_name(i)}')\n",
    "device = torch.device(\"cuda:0\" if torch.cuda.is_available() else \"cpu\")\n",
    "#device = 'cpu'\n",
    "torch.set_default_dtype(torch.float32)"
   ]
  },
  {
   "cell_type": "code",
   "execution_count": 2,
   "metadata": {},
   "outputs": [],
   "source": [
    "from models.MLP import Davies2021\n",
    "net = Davies2021(N_layers=8, width=32, activation=nn.Softplus(30), last_activation=nn.Softplus(30)).to(device)\n",
    "#net = Davies2021(N_layers=8, width=28, activation=nn.SiLU(), last_activation=nn.Identity()).to(device)\n"
   ]
  },
  {
   "cell_type": "code",
   "execution_count": 17,
   "metadata": {},
   "outputs": [
    {
     "data": {
      "text/plain": [
       "<All keys matched successfully>"
      ]
     },
     "execution_count": 17,
     "metadata": {},
     "output_type": "execute_result"
    }
   ],
   "source": [
    "import os\n",
    "from utils.dataset_generator import TestDataset\n",
    "\n",
    "dataset_name = '../datasets/box_1f0_gyroid_4pi'\n",
    "output_stl = dataset_name+'/raw.stl'\n",
    "test_dataset = TestDataset(dataset_name + '/test.npz', device=device)\n",
    "net.load_state_dict(torch.load(f'{dataset_name}-MLP.pth'))"
   ]
  },
  {
   "cell_type": "code",
   "execution_count": 21,
   "metadata": {},
   "outputs": [],
   "source": [
    "from utils.dataset_generator import run_batch\n",
    "from kaolin.metrics import voxelgrid\n",
    "import math\n",
    "def test_iou(net, x, true_sdf, batch_size=10000, eps = 0.00001):\n",
    "    assert hasattr(net, 'predict'), 'nn.Module must has predict function, i.e. extending from Base'\n",
    "    # predict sdf from net\n",
    "    predict_sdf = run_batch(net.predict, x, batch_size=batch_size)\n",
    "    # convert list to voxel grid\n",
    "    N = x.shape[0]\n",
    "    Nx = math.ceil(N**(1/3))\n",
    "    \n",
    "    # threshould the sdf into a binary voxelgrid\n",
    "    _mark = true_sdf > eps\n",
    "    true_sdf[_mark] = 0.0\n",
    "    true_sdf[~_mark] = 1.0\n",
    "\n",
    "    _mark = predict_sdf > eps\n",
    "    predict_sdf[_mark] = 0.0\n",
    "    predict_sdf[_mark] = 1.0\n",
    "\n",
    "    voxelgrid_ground = true_sdf.reshape((1, Nx, Nx, Nx))\n",
    "    voxelgrid_pred = predict_sdf.reshape((1, Nx, Nx, Nx))\n",
    "    return voxelgrid.iou(voxelgrid_pred, voxelgrid_ground)"
   ]
  },
  {
   "cell_type": "code",
   "execution_count": 13,
   "metadata": {},
   "outputs": [
    {
     "name": "stdout",
     "output_type": "stream",
     "text": [
      "tensor([1., 0., 1., 0., 1., 1., 1., 1., 0., 0., 0., 1., 0., 0., 0., 1., 0., 0.,\n",
      "        0., 1., 1., 0., 1., 1., 0., 1., 1., 1., 0., 1., 0., 1., 1., 0., 0., 1.,\n",
      "        0., 0., 1., 0., 1., 1., 0., 0., 0., 0., 0., 1., 1., 1., 1., 0., 0., 0.,\n",
      "        0., 1., 1., 1., 1., 0., 0., 0., 0., 0., 1., 1., 0., 1., 1., 1., 1., 1.,\n",
      "        0., 1., 0., 1., 0., 0., 0., 1., 0., 1., 1., 0., 0., 1., 0., 0., 0., 0.,\n",
      "        1., 0., 0., 1., 1., 0., 1., 1., 0., 0.])\n"
     ]
    }
   ],
   "source": [
    "a = torch.rand((100,))\n",
    "a[a > 0.5] = 1.0\n",
    "a[a <= 0.5] = 0.0\n",
    "print(a)"
   ]
  },
  {
   "cell_type": "code",
   "execution_count": 22,
   "metadata": {},
   "outputs": [
    {
     "data": {
      "text/plain": [
       "tensor([0.4911], device='cuda:0')"
      ]
     },
     "execution_count": 22,
     "metadata": {},
     "output_type": "execute_result"
    }
   ],
   "source": [
    "test_iou(net, test_dataset.uniform.points, test_dataset.uniform.sdfs)"
   ]
  }
 ],
 "metadata": {
  "interpreter": {
   "hash": "338d088b7365852483cbb7f745c4a9fbf18ad887a6ae80fcf58992043df108c7"
  },
  "kernelspec": {
   "display_name": "Python 3.9.7 64-bit ('sdf': conda)",
   "name": "python3"
  },
  "language_info": {
   "codemirror_mode": {
    "name": "ipython",
    "version": 3
   },
   "file_extension": ".py",
   "mimetype": "text/x-python",
   "name": "python",
   "nbconvert_exporter": "python",
   "pygments_lexer": "ipython3",
   "version": "3.9.10"
  },
  "orig_nbformat": 4
 },
 "nbformat": 4,
 "nbformat_minor": 2
}
