{
 "cells": [
  {
   "cell_type": "code",
   "execution_count": 1,
   "metadata": {},
   "outputs": [
    {
     "name": "stdout",
     "output_type": "stream",
     "text": [
      "CUDA 0: NVIDIA GeForce GTX 1650 Ti\n"
     ]
    }
   ],
   "source": [
    "%load_ext autoreload\n",
    "%autoreload 2\n",
    "# Add parent directory into system path\n",
    "import sys, os\n",
    "sys.path.insert(1, os.path.abspath(os.path.normpath('..')))\n",
    "\n",
    "import torch\n",
    "from torch import nn\n",
    "from torch.nn.init import calculate_gain\n",
    "\n",
    "if torch.cuda.is_available():\n",
    "    for i in range(torch.cuda.device_count()):\n",
    "        print(f'CUDA {i}: {torch.cuda.get_device_name(i)}')\n",
    "device = torch.device(\"cuda:0\" if torch.cuda.is_available() else \"cpu\")\n",
    "#device = 'cpu'\n",
    "torch.set_default_dtype(torch.float32)"
   ]
  },
  {
   "cell_type": "code",
   "execution_count": 2,
   "metadata": {},
   "outputs": [],
   "source": [
    "from models.MLP import Davies2021\n",
    "net = Davies2021(N_layers=8, width=32, activation=nn.Softplus(30), last_activation=nn.Softplus(30)).to(device)\n",
    "#net = Davies2021(N_layers=8, width=28, activation=nn.SiLU(), last_activation=nn.Identity()).to(device)\n"
   ]
  },
  {
   "cell_type": "code",
   "execution_count": 3,
   "metadata": {},
   "outputs": [
    {
     "name": "stdout",
     "output_type": "stream",
     "text": [
      "[pyigl_import] module igl not found. trying to import pyigl\n"
     ]
    }
   ],
   "source": [
    "import os\n",
    "from utils.dataset_generator import ImplicitDataset\n",
    "\n",
    "dataset_name = '../datasets/box_1f0_gyroid_4pi'\n",
    "output_stl = dataset_name+'.stl'\n",
    "net.load_state_dict(torch.load(f'{dataset_name}-MLP.pth'))"
   ]
  },
  {
   "cell_type": "code",
   "execution_count": 10,
   "metadata": {},
   "outputs": [],
   "source": [
    "from utils.dataset_generator import run_batch\n",
    "from kaolin.metrics import voxelgrid\n",
    "import math\n",
    "def test_iou(net, x, true_sdf, batch_size=10000):\n",
    "    assert hasattr(net, 'predict_test'), 'nn.Module must has predict_test function, i.e. extending from Base'\n",
    "    # predict sdf from net\n",
    "    predict_sdf = run_batch(net.predict_test, x, batch_size=batch_size)\n",
    "    # convert list to voxel grid\n",
    "    N = x.shape[0]\n",
    "    Nx = math.ceil(N**(1/3))\n",
    "    voxelgrid_ground = true_sdf.reshape((1, Nx, Nx, Nx))\n",
    "    voxelgrid_pred = predict_sdf.reshape((1, Nx, Nx, Nx))\n",
    "    return voxelgrid.iou(voxelgrid_pred, voxelgrid_ground)"
   ]
  },
  {
   "cell_type": "code",
   "execution_count": 11,
   "metadata": {},
   "outputs": [
    {
     "data": {
      "text/plain": [
       "tensor([0.9848], device='cuda:0')"
      ]
     },
     "execution_count": 11,
     "metadata": {},
     "output_type": "execute_result"
    }
   ],
   "source": [
    "test_iou(net, test_dataset.uniform.points, test_dataset.uniform.sdfs)"
   ]
  }
 ],
 "metadata": {
  "interpreter": {
   "hash": "338d088b7365852483cbb7f745c4a9fbf18ad887a6ae80fcf58992043df108c7"
  },
  "kernelspec": {
   "display_name": "Python 3.9.7 64-bit ('sdf': conda)",
   "name": "python3"
  },
  "language_info": {
   "codemirror_mode": {
    "name": "ipython",
    "version": 3
   },
   "file_extension": ".py",
   "mimetype": "text/x-python",
   "name": "python",
   "nbconvert_exporter": "python",
   "pygments_lexer": "ipython3",
   "version": "3.9.10"
  },
  "orig_nbformat": 4
 },
 "nbformat": 4,
 "nbformat_minor": 2
}
