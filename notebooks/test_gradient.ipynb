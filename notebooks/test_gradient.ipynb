{
 "cells": [
  {
   "cell_type": "code",
   "execution_count": null,
   "metadata": {},
   "outputs": [],
   "source": [
    "%load_ext autoreload\n",
    "%autoreload 2\n",
    "# Add parent directory into system path\n",
    "import sys, os\n",
    "sys.path.insert(1, os.path.abspath(os.path.normpath('..')))"
   ]
  },
  {
   "cell_type": "code",
   "execution_count": null,
   "metadata": {},
   "outputs": [],
   "source": [
    "from utils.libs import igl\n",
    "import numpy as np\n",
    "\n",
    "file = os.path.join('..', 'datasets', 'box_1.0.stl')\n",
    "\n",
    "v,f = igl.read_triangle_mesh(file)\n",
    "bv, bf = igl.bounding_box(v)\n",
    "\n",
    "(x0, y0, z0), (x1, y1, z1) = bv[0], bv[-1]\n"
   ]
  },
  {
   "cell_type": "code",
   "execution_count": null,
   "metadata": {},
   "outputs": [],
   "source": [
    "from sdf.mesh import _cartesian_product \n",
    "N_STEP = 100\n",
    "OFFSET = 2\n",
    "dx, dy, dz = np.abs(bv[0]-bv[-1]) / N_STEP\n",
    "\n",
    "X = np.linspace(x0-OFFSET*dx, x1+OFFSET*dx, N_STEP)\n",
    "Y = np.linspace(y0-OFFSET*dy, y1+OFFSET*dy, N_STEP)\n",
    "Z = np.linspace(z0-OFFSET*dz, z1+OFFSET*dz, N_STEP)\n",
    "step = (X[1]-X[0], Y[1]-Y[0], Z[1]-Z[0])\n",
    "\n",
    "P = _cartesian_product(X, Y, Z)"
   ]
  },
  {
   "cell_type": "code",
   "execution_count": null,
   "metadata": {},
   "outputs": [],
   "source": [
    "import pandas as pd\n",
    "df = pd.DataFrame(P, columns = ['X', 'Y', 'Z'])\n",
    "\n",
    "df['sdf'], _, _ = igl.signed_distance(P, v, f, 4, return_normals=False)"
   ]
  },
  {
   "cell_type": "code",
   "execution_count": null,
   "metadata": {},
   "outputs": [],
   "source": [
    "sdf, _, _ = igl.signed_distance(P, v, f, 4, return_normals=False)"
   ]
  },
  {
   "cell_type": "code",
   "execution_count": null,
   "metadata": {},
   "outputs": [],
   "source": [
    "x = sdf.reshape((N_STEP, N_STEP, N_STEP))"
   ]
  },
  {
   "cell_type": "code",
   "execution_count": null,
   "metadata": {},
   "outputs": [],
   "source": [
    "a = np.gradient(x, dx, dy, dz)\n",
    "norm_gradient = np.linalg.norm(a, axis=0)"
   ]
  },
  {
   "cell_type": "code",
   "execution_count": null,
   "metadata": {},
   "outputs": [],
   "source": [
    "import matplotlib.pyplot as plt\n",
    "import matplotlib.colors as colors\n",
    "d = norm_gradient[50,:,:]\n",
    "fig, ax = plt.subplots()\n",
    "plt.imshow(d, cmap='coolwarm', norm=colors.CenteredNorm())\n",
    "plt.colorbar()\n",
    "ax.set_title('min=%.6f\\nmax=%.6f' % (np.min(d), np.max(d)))\n",
    "ax.tick_params(axis='both', which='major', labelsize=6)"
   ]
  },
  {
   "cell_type": "code",
   "execution_count": null,
   "metadata": {},
   "outputs": [],
   "source": [
    "import torch\n",
    "delta = 0.001\n",
    "c1 = 1.0/delta**2\n",
    "c2 = -2.0/delta**2\n",
    "c3 = 3.0*c1\n",
    "\n",
    "A = torch.tensor([[-1.0, c3, c1, c1, c1, c2, c2, c2]])\n",
    "print(A.shape)\n",
    "P = A.T @ (A @ A.T).inverse() @ A\n",
    "P = torch.eye(P.shape[-1]) - P\n",
    "P.shape"
   ]
  },
  {
   "cell_type": "code",
   "execution_count": null,
   "metadata": {},
   "outputs": [],
   "source": [
    "x = torch.randn((1000, 3))\n",
    "\n",
    "\n",
    "delta_x = torch.tensor([[delta, 0, 0]]).tile((x.shape[0], 1))\n",
    "delta_y = torch.tensor([[0, delta, 0]]).tile((x.shape[0], 1))\n",
    "delta_z = torch.tensor([[0, 0, delta]]).tile((x.shape[0], 1))\n",
    "\n",
    "augmented_x = torch.vstack((\n",
    "    x,\n",
    "    x + delta_x,\n",
    "    x + delta_y,\n",
    "    x + delta_z\n",
    "))\n",
    "\n",
    "y = torch.randn((augmented_x.shape[0],))\n",
    "print(y.shape)\n",
    "\n",
    "ny = y.reshape((4, 1000))\n",
    "u = ny[0, :]\n",
    "ux = ny[1, :]\n",
    "uy = ny[2, :]\n",
    "uz = ny[3, :]\n",
    "H = torch.vstack((\n",
    "    torch.ones((ny.shape[-1],)),\n",
    "    u**2,\n",
    "    ux**2,\n",
    "    uy**2,\n",
    "    uz**2,\n",
    "    ux*u,\n",
    "    uy*u,\n",
    "    uz*u,\n",
    "))\n",
    "print(H.shape)\n",
    "\n",
    "loss = torch.mean((A@H)**2)\n",
    "print(loss)"
   ]
  },
  {
   "cell_type": "code",
   "execution_count": null,
   "metadata": {},
   "outputs": [],
   "source": [
    "H_ = P @ H\n",
    "print(H_.shape)\n",
    "_mark = torch.tensor([[0., 1., 0., 0., 0., 0., 0., 0.]])\n",
    "predict_u = _mark @ H_\n",
    "print(H)"
   ]
  },
  {
   "cell_type": "code",
   "execution_count": null,
   "metadata": {},
   "outputs": [],
   "source": [
    "t = torch.float64\n",
    "u = torch.tensor([1.0], dtype=t)\n",
    "ux = torch.tensor([1.0], dtype=t)\n",
    "uy = torch.tensor([1.0], dtype=t)\n",
    "uz = torch.tensor([1.0+delta], dtype=t)\n",
    "h = torch.vstack((\n",
    "    torch.ones((u.shape[-1],)),\n",
    "    u**2,\n",
    "    ux**2,\n",
    "    uy**2,\n",
    "    uz**2,\n",
    "    ux*u,\n",
    "    uy*u,\n",
    "    uz*u,\n",
    "))\n",
    "torch.mm(A.to(t), h)\n",
    "print(P.to(t) @ h)"
   ]
  }
 ],
 "metadata": {
  "interpreter": {
   "hash": "338d088b7365852483cbb7f745c4a9fbf18ad887a6ae80fcf58992043df108c7"
  },
  "kernelspec": {
   "display_name": "Python 3.9.7 64-bit ('sdf': conda)",
   "language": "python",
   "name": "python3"
  },
  "language_info": {
   "codemirror_mode": {
    "name": "ipython",
    "version": 3
   },
   "file_extension": ".py",
   "mimetype": "text/x-python",
   "name": "python",
   "nbconvert_exporter": "python",
   "pygments_lexer": "ipython3",
   "version": "3.9.7"
  },
  "orig_nbformat": 4
 },
 "nbformat": 4,
 "nbformat_minor": 2
}
