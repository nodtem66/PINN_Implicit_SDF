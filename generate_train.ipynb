{
 "cells": [
  {
   "cell_type": "code",
   "execution_count": 2,
   "metadata": {},
   "outputs": [],
   "source": [
    "%load_ext autoreload\n",
    "%autoreload 2"
   ]
  },
  {
   "cell_type": "code",
   "execution_count": 7,
   "metadata": {},
   "outputs": [],
   "source": [
    "import sdf\n",
    "from weight_encode_neural_implicit import geometry\n",
    "from torch.utils.data import Dataset, DataLoader\n",
    "import math\n",
    "import torch\n",
    "import numpy as np\n",
    "\n",
    "import sys\n",
    "import os\n",
    "import tempfile\n",
    "\n",
    "class ImplicitDataSet(Dataset):\n",
    "    \"\"\"\n",
    "    Init dataset with implicit function f\n",
    "\n",
    "    Parameters\n",
    "    ----------\n",
    "    f: sdf.SDF3\n",
    "        implicit function\n",
    "    N: int\n",
    "        the number of samples (default: 1000)\n",
    "    sampling_method: str\n",
    "        'point' for point sampling\n",
    "        'importance' for importance sampling\n",
    "        see weight_encode_neural_implicit/geometry.py\n",
    "    *args\n",
    "        These parameters will be passed to the sampling class\n",
    "    **vargs\n",
    "        These parameters will be passed to the sampling class\n",
    "    \"\"\"\n",
    "    def __init__(self, f, N=1000, step=0.01, offset=30, atol=2e-1, output_stl='tmp.stl', sampling_method='point', *args, **vargs):\n",
    "        if not isinstance(f, sdf.SDF3):\n",
    "            raise TypeError('Cannot init ImplicitDataset(f) because f is not sdf.SDF3 object')\n",
    "        super().__init__()\n",
    "\n",
    "        _ndim = round(N**(1/3))\n",
    "        if _ndim <= 0:\n",
    "            raise ValueError('N must be greater than or equal to 1')\n",
    "\n",
    "        dx, dy, dz = (step,)*3\n",
    "        (x0, y0, z0), (x1, y1, z1) = sdf.mesh._estimate_bounds(f)\n",
    "        X = np.linspace(x0-offset*dx, x1+offset*dx, _ndim)\n",
    "        Y = np.linspace(y0-offset*dy, y1+offset*dy, _ndim)\n",
    "        Z = np.linspace(y0-offset*dy, y1+offset*dy, _ndim)\n",
    "        P = sdf.mesh._cartesian_product(X, Y, Z)\n",
    "\n",
    "        lvl_set = f(P)\n",
    "        _zero_mark = np.squeeze(np.isclose(lvl_set, np.zeros_like(lvl_set), atol=atol))\n",
    "        self.points = P[_zero_mark]\n",
    "\n",
    "        try:\n",
    "            temp_filename = os.path.normpath(output_stl)\n",
    "            sdf.write_binary_stl(temp_filename, f.generate(step, verbose=False, method=1))\n",
    "            _mesh = geometry.Mesh(temp_filename, doNormalize=True)\n",
    "            _SDF = geometry.SDF(_mesh)\n",
    "            self.sdfs = _SDF.query(self.points)\n",
    "        except Exception as e:\n",
    "            print(\"warning: \", e)\n",
    "        \n",
    "    def __len__(self):\n",
    "        return self.sdfs.shape[0]\n",
    "    \n",
    "    def __getitem__(self, idx):\n",
    "        return {\"x\": self.points[idx], \"sdf\": self.sdfs[idx]}\n",
    "\n",
    "class MeshSDFDataSet(Dataset):\n",
    "    \"\"\"\n",
    "    Init dataset with SDF of Mesh\n",
    "\n",
    "    Parameters\n",
    "    ----------\n",
    "    f: sdf.SDF3\n",
    "        implicit function\n",
    "    N: int\n",
    "        the number of samples (default: 10000)\n",
    "    sampling_method: str\n",
    "        'point' for point sampling\n",
    "        'importance' for importance sampling\n",
    "        see weight_encode_neural_implicit/geometry.py\n",
    "    *args\n",
    "        These parameters will be passed to the sampling class\n",
    "    **vargs\n",
    "        These parameters will be passed to the sampling class\n",
    "    \"\"\"\n",
    "    def __init__(self, file, N=10000, sampling_method='point', *args, **vargs):\n",
    "        super().__init__()\n",
    "        \n",
    "        if not os.path.exists(file):\n",
    "            raise ValueError(f'{file} did not exists')\n",
    "\n",
    "        _mesh = geometry.Mesh(file, doNormalize=True)\n",
    "        _SDF = geometry.SDF(_mesh)\n",
    "        \n",
    "        if sampling_method == 'point':\n",
    "            _sampler = geometry.PointSampler(_mesh, *args, **vargs)\n",
    "        elif sampling_method == 'importance':\n",
    "            _sampler = geometry.ImportanceSampler(_mesh, *args, **vargs)\n",
    "        else:\n",
    "            raise ValueError('sampling_method must be \\'point\\' or \\'importance\\'')\n",
    "        \n",
    "        self.points = _sampler.sample(N)\n",
    "        self.sdfs = _SDF.query(self.points)\n",
    "\n",
    "    def __len__(self):\n",
    "        return self.sdfs.shape[0]\n",
    "    \n",
    "    def __getitem__(self, idx):\n",
    "        return {\"x\": self.points[idx], \"sdf\": self.sdfs[idx]}\n"
   ]
  },
  {
   "cell_type": "code",
   "execution_count": null,
   "metadata": {},
   "outputs": [],
   "source": [
    "output_stl = os.path.join(os.getcwd(), 'tmp_' + os.urandom(6).hex() + '.stl')\n",
    "print(f'Saved file at {output_stl}')\n",
    "train_dataloader = DataLoader(ImplicitDataSet(sdf.box(1.0), N=1000, output_stl=output_stl), batch_size=64, shuffle=True)\n",
    "test_dataloader = DataLoader(MeshSDFDataSet(output_stl, N=1000), batch_size=64, shuffle=True)\n",
    "try:\n",
    "    os.unlink(output_stl)\n",
    "except Exception as e:\n",
    "    print('warning: ', e)"
   ]
  },
  {
   "cell_type": "code",
   "execution_count": 11,
   "metadata": {},
   "outputs": [],
   "source": [
    "device = torch.device(\"cpu\")"
   ]
  },
  {
   "cell_type": "code",
   "execution_count": 17,
   "metadata": {},
   "outputs": [
    {
     "ename": "RuntimeError",
     "evalue": "Trying to create tensor with negative dimension -1: [1, -1]",
     "output_type": "error",
     "traceback": [
      "\u001b[1;31m---------------------------------------------------------------------------\u001b[0m",
      "\u001b[1;31mRuntimeError\u001b[0m                              Traceback (most recent call last)",
      "\u001b[1;32m~\\AppData\\Local\\Temp/ipykernel_25792/823524382.py\u001b[0m in \u001b[0;36m<module>\u001b[1;34m\u001b[0m\n\u001b[0;32m      2\u001b[0m model = torch.nn.Sequential(\n\u001b[0;32m      3\u001b[0m     \u001b[0mtorch\u001b[0m\u001b[1;33m.\u001b[0m\u001b[0mnn\u001b[0m\u001b[1;33m.\u001b[0m\u001b[0mLinear\u001b[0m\u001b[1;33m(\u001b[0m\u001b[1;36m3\u001b[0m\u001b[1;33m,\u001b[0m \u001b[1;36m1\u001b[0m\u001b[1;33m)\u001b[0m\u001b[1;33m,\u001b[0m\u001b[1;33m\u001b[0m\u001b[1;33m\u001b[0m\u001b[0m\n\u001b[1;32m----> 4\u001b[1;33m     \u001b[0mtorch\u001b[0m\u001b[1;33m.\u001b[0m\u001b[0mnn\u001b[0m\u001b[1;33m.\u001b[0m\u001b[0mLinear\u001b[0m\u001b[1;33m(\u001b[0m\u001b[1;33m-\u001b[0m\u001b[1;36m1\u001b[0m\u001b[1;33m,\u001b[0m \u001b[1;36m1\u001b[0m\u001b[1;33m)\u001b[0m\u001b[1;33m\u001b[0m\u001b[1;33m\u001b[0m\u001b[0m\n\u001b[0m\u001b[0;32m      5\u001b[0m )\n\u001b[0;32m      6\u001b[0m \u001b[0mprint\u001b[0m\u001b[1;33m(\u001b[0m\u001b[0mmodel\u001b[0m\u001b[1;33m)\u001b[0m\u001b[1;33m\u001b[0m\u001b[1;33m\u001b[0m\u001b[0m\n",
      "\u001b[1;32m~\\miniconda3\\envs\\sdf\\lib\\site-packages\\torch\\nn\\modules\\linear.py\u001b[0m in \u001b[0;36m__init__\u001b[1;34m(self, in_features, out_features, bias, device, dtype)\u001b[0m\n\u001b[0;32m     79\u001b[0m         \u001b[0mself\u001b[0m\u001b[1;33m.\u001b[0m\u001b[0min_features\u001b[0m \u001b[1;33m=\u001b[0m \u001b[0min_features\u001b[0m\u001b[1;33m\u001b[0m\u001b[1;33m\u001b[0m\u001b[0m\n\u001b[0;32m     80\u001b[0m         \u001b[0mself\u001b[0m\u001b[1;33m.\u001b[0m\u001b[0mout_features\u001b[0m \u001b[1;33m=\u001b[0m \u001b[0mout_features\u001b[0m\u001b[1;33m\u001b[0m\u001b[1;33m\u001b[0m\u001b[0m\n\u001b[1;32m---> 81\u001b[1;33m         \u001b[0mself\u001b[0m\u001b[1;33m.\u001b[0m\u001b[0mweight\u001b[0m \u001b[1;33m=\u001b[0m \u001b[0mParameter\u001b[0m\u001b[1;33m(\u001b[0m\u001b[0mtorch\u001b[0m\u001b[1;33m.\u001b[0m\u001b[0mempty\u001b[0m\u001b[1;33m(\u001b[0m\u001b[1;33m(\u001b[0m\u001b[0mout_features\u001b[0m\u001b[1;33m,\u001b[0m \u001b[0min_features\u001b[0m\u001b[1;33m)\u001b[0m\u001b[1;33m,\u001b[0m \u001b[1;33m**\u001b[0m\u001b[0mfactory_kwargs\u001b[0m\u001b[1;33m)\u001b[0m\u001b[1;33m)\u001b[0m\u001b[1;33m\u001b[0m\u001b[1;33m\u001b[0m\u001b[0m\n\u001b[0m\u001b[0;32m     82\u001b[0m         \u001b[1;32mif\u001b[0m \u001b[0mbias\u001b[0m\u001b[1;33m:\u001b[0m\u001b[1;33m\u001b[0m\u001b[1;33m\u001b[0m\u001b[0m\n\u001b[0;32m     83\u001b[0m             \u001b[0mself\u001b[0m\u001b[1;33m.\u001b[0m\u001b[0mbias\u001b[0m \u001b[1;33m=\u001b[0m \u001b[0mParameter\u001b[0m\u001b[1;33m(\u001b[0m\u001b[0mtorch\u001b[0m\u001b[1;33m.\u001b[0m\u001b[0mempty\u001b[0m\u001b[1;33m(\u001b[0m\u001b[0mout_features\u001b[0m\u001b[1;33m,\u001b[0m \u001b[1;33m**\u001b[0m\u001b[0mfactory_kwargs\u001b[0m\u001b[1;33m)\u001b[0m\u001b[1;33m)\u001b[0m\u001b[1;33m\u001b[0m\u001b[1;33m\u001b[0m\u001b[0m\n",
      "\u001b[1;31mRuntimeError\u001b[0m: Trying to create tensor with negative dimension -1: [1, -1]"
     ]
    }
   ],
   "source": [
    "import torch\n",
    "model = torch.nn.Sequential(\n",
    "    torch.nn.Linear(3, 1),\n",
    "    torch.nn.Linear(-1, 1)\n",
    ")\n",
    "print(model)"
   ]
  }
 ],
 "metadata": {
  "interpreter": {
   "hash": "338d088b7365852483cbb7f745c4a9fbf18ad887a6ae80fcf58992043df108c7"
  },
  "kernelspec": {
   "display_name": "Python 3.9.7 64-bit ('sdf': conda)",
   "name": "python3"
  },
  "language_info": {
   "codemirror_mode": {
    "name": "ipython",
    "version": 3
   },
   "file_extension": ".py",
   "mimetype": "text/x-python",
   "name": "python",
   "nbconvert_exporter": "python",
   "pygments_lexer": "ipython3",
   "version": "3.9.7"
  },
  "orig_nbformat": 4
 },
 "nbformat": 4,
 "nbformat_minor": 2
}
