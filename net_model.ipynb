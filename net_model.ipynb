{
 "cells": [
  {
   "cell_type": "code",
   "execution_count": 40,
   "metadata": {},
   "outputs": [],
   "source": [
    "%load_ext autoreload\n",
    "%autoreload 2"
   ]
  },
  {
   "cell_type": "code",
   "execution_count": 41,
   "metadata": {},
   "outputs": [
    {
     "name": "stdout",
     "output_type": "stream",
     "text": [
      "CUDA 0: NVIDIA GeForce GTX 1650 Ti\n"
     ]
    }
   ],
   "source": [
    "import torch\n",
    "import torch.nn as nn\n",
    "if torch.cuda.is_available():\n",
    "    for i in range(torch.cuda.device_count()):\n",
    "        print(f'CUDA {i}: {torch.cuda.get_device_name(i)}')\n",
    "device = torch.device(\"cuda:0\" if torch.cuda.is_available() else \"cpu\")"
   ]
  },
  {
   "cell_type": "code",
   "execution_count": 55,
   "metadata": {},
   "outputs": [],
   "source": [
    "class MLP(nn.Module):\n",
    "    def __init__(self, width=200, N_layers=10, loss_bc_lambda=1.0, activation=nn.Softplus(beta=1)):\n",
    "        super().__init__()\n",
    "        _layers = [nn.Linear(3, width), activation]\n",
    "        for i in range(N_layers):\n",
    "            _layers.append(nn.Linear(width, width))\n",
    "            _layers.append(activation)\n",
    "        _layers.append(nn.Linear(width, 1))\n",
    "        self.model = nn.Sequential(*_layers)\n",
    "        self.loss_function = nn.MSELoss(reduction='mean')\n",
    "        self.loss_bc_lambda = torch.tensor([loss_bc_lambda], requires_grad=False)\n",
    "\n",
    "    def forward(self, x):\n",
    "        return self.model(x)\n",
    "\n",
    "    def loss_BC(self, x, sdf):\n",
    "        loss = self.loss_function(self.forward(x), sdf)\n",
    "        return loss\n",
    "    \n",
    "    def loss_PDE(self, x):\n",
    "        _x = x.clone()\n",
    "        _x.requires_grad = True\n",
    "        F = self.forward(_x)\n",
    "        F_x = torch.autograd.grad(\n",
    "            F, _x,\n",
    "            grad_outputs=torch.ones_like(F),\n",
    "            retain_graph=True,\n",
    "            create_graph=True\n",
    "        )[0]\n",
    "        loss = self.loss_function(torch.abs(F_x), torch.ones_like(F_x))\n",
    "        return loss\n",
    "    \n",
    "    def loss(self, x, sdf):\n",
    "        return self.loss_PDE(x) + self.loss_bc_lambda * self.loss_BC(x, sdf)\n",
    "\n"
   ]
  },
  {
   "cell_type": "code",
   "execution_count": 56,
   "metadata": {},
   "outputs": [
    {
     "data": {
      "text/plain": [
       "tensor([2.3634], grad_fn=<AddBackward0>)"
      ]
     },
     "execution_count": 56,
     "metadata": {},
     "output_type": "execute_result"
    }
   ],
   "source": [
    "net = MLP()\n",
    "net.loss(torch.rand(1000, 3), torch.rand(1000,1))"
   ]
  }
 ],
 "metadata": {
  "interpreter": {
   "hash": "338d088b7365852483cbb7f745c4a9fbf18ad887a6ae80fcf58992043df108c7"
  },
  "kernelspec": {
   "display_name": "Python 3.9.7 64-bit ('sdf': conda)",
   "name": "python3"
  },
  "language_info": {
   "codemirror_mode": {
    "name": "ipython",
    "version": 3
   },
   "file_extension": ".py",
   "mimetype": "text/x-python",
   "name": "python",
   "nbconvert_exporter": "python",
   "pygments_lexer": "ipython3",
   "version": "3.9.7"
  },
  "orig_nbformat": 4
 },
 "nbformat": 4,
 "nbformat_minor": 2
}
